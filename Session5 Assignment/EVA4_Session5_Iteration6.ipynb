{
  "nbformat": 4,
  "nbformat_minor": 0,
  "metadata": {
    "colab": {
      "name": "EVA4_Session5_Iteration6.ipynb",
      "provenance": [],
      "collapsed_sections": []
    },
    "kernelspec": {
      "name": "python3",
      "display_name": "Python 3"
    },
    "accelerator": "GPU"
  },
  "cells": [
    {
      "cell_type": "markdown",
      "metadata": {
        "id": "EooNQQXjCWp_",
        "colab_type": "text"
      },
      "source": [
        "# Analysis\n",
        "## Target\n",
        "Hoping to have a more agressive reduction in learning rate so that towards the end the model stablizes faster. Hence reduced gamma to 0.2 and retained step size as 2 as in previous models. Also the training is consistently lower than the test, so probably the dropout of 15% is rather high and not allowing the model to achieve the desired accuracy so reducing the dropout to 10%\n",
        "\n",
        "## Result\n",
        "Best Training Accuracy achieved in Epoch 15 :99.01%          \n",
        "Best Test Accuracy is achieved in Epoch 15:99.43%    \n",
        "\n",
        "## Analysis\n",
        "The accuracy had increased and had been 99.39%, 99.41% and 99.43% in the last three epochs, thereby suggesting that the dropout was intially very high, the addition of GAP and 1X1 kernel at the end and adjusting learning rates were important decisions\n"
      ]
    },
    {
      "cell_type": "code",
      "metadata": {
        "id": "0m2JWFliFfKT",
        "colab_type": "code",
        "colab": {}
      },
      "source": [
        "from __future__ import print_function\n",
        "import torch\n",
        "import torch.nn as nn\n",
        "import torch.nn.functional as F\n",
        "import torch.optim as optim\n",
        "from torch.optim.lr_scheduler import StepLR\n",
        "from torchvision import datasets, transforms"
      ],
      "execution_count": 0,
      "outputs": []
    },
    {
      "cell_type": "code",
      "metadata": {
        "id": "h_Cx9q2QFgM7",
        "colab_type": "code",
        "colab": {}
      },
      "source": [
        "class Net(nn.Module):\n",
        "    def __init__(self):\n",
        "        super(Net, self).__init__()\n",
        "        self.conv1 = nn.Conv2d(1, 8, 3, padding=0)     #(k=3,p=0,s=1) input = 28, output = 26, rf = 3, jump = 1\n",
        "        self.batchnorm1 = nn.BatchNorm2d(8)\n",
        "        self.dropout1 = nn.Dropout(0.10)\n",
        "        self.conv2 = nn.Conv2d(8, 8, 3, padding=0)     #(k=3,p=0,s=1) input = 26, output = 24, rf = 5, jump = 1\n",
        "        self.batchnorm2 = nn.BatchNorm2d(8)\n",
        "        self.dropout2 = nn.Dropout(0.10)\n",
        "        self.conv3 = nn.Conv2d(8, 8, 3, padding=0)     #(k=3,p=0,s=1) input = 24, output = 22, rf = 7, jump = 1\n",
        "        self.batchnorm3 = nn.BatchNorm2d(8)\n",
        "        self.dropout3 = nn.Dropout(0.10)\n",
        "        self.pool1 = nn.AvgPool2d(2, 2)                #(k=2,p=0,s=2) input = 22, output = 11, rf = 8, jump = 1\n",
        "        self.conv4 = nn.Conv2d(8, 16, 3, padding=0)    #(k=3,p=0,s=1) input = 11, output = 9, rf = 12, jump = 2\n",
        "        self.batchnorm4 = nn.BatchNorm2d(16)\n",
        "        self.dropout4 = nn.Dropout(0.10)\n",
        "        self.conv5 = nn.Conv2d(16, 16, 3, padding=0)   #(k=3,p=0,s=1) input = 9, output = 7, rf = 16, jump = 2\n",
        "        self.batchnorm5 = nn.BatchNorm2d(16)\n",
        "        self.dropout5 = nn.Dropout(0.10)\n",
        "        self.conv6 = nn.Conv2d(16, 32, 3, padding=0)   #(k=3,p=0,s=1) input = 7, output = 5, rf = 20, jump = 2\n",
        "        self.batchnorm6 = nn.BatchNorm2d(32)\n",
        "        self.dropout6 = nn.Dropout(0.10)\n",
        "        self.pool2 = nn.AvgPool2d(5, 5)                #(k=5,p=0,s=5) input = 5, output = 1, rf = 28, jump = 2\n",
        "        self.conv8 = nn.Conv2d(32, 10, 1)\n",
        "\n",
        "\n",
        "    def forward(self, x):\n",
        "        x = self.pool1(self.dropout3(self.batchnorm3(F.relu(self.conv3(self.dropout2(self.batchnorm2(F.relu(self.conv2(self.dropout1(self.batchnorm1(F.relu(self.conv1(x)))))))))))))\n",
        "        x = self.pool2(self.dropout6(self.batchnorm6(F.relu(self.conv6(self.dropout5(self.batchnorm5(F.relu(self.conv5(self.dropout4(self.batchnorm4(F.relu(self.conv4(x)))))))))))))\n",
        "        x = self.conv8(x)\n",
        "        x = x.view(-1, 10)\n",
        "        return F.log_softmax(x)"
      ],
      "execution_count": 0,
      "outputs": []
    },
    {
      "cell_type": "code",
      "metadata": {
        "colab_type": "code",
        "id": "xdydjYTZFyi3",
        "outputId": "9f06b6b4-ce2b-40fa-b258-134de98811f0",
        "colab": {
          "base_uri": "https://localhost:8080/",
          "height": 642
        }
      },
      "source": [
        "!pip install torchsummary\n",
        "from torchsummary import summary\n",
        "use_cuda = torch.cuda.is_available()\n",
        "device = torch.device(\"cuda\" if use_cuda else \"cpu\")\n",
        "model = Net().to(device)\n",
        "summary(model, input_size=(1, 28, 28))"
      ],
      "execution_count": 3,
      "outputs": [
        {
          "output_type": "stream",
          "text": [
            "Requirement already satisfied: torchsummary in /usr/local/lib/python3.6/dist-packages (1.5.1)\n",
            "----------------------------------------------------------------\n",
            "        Layer (type)               Output Shape         Param #\n",
            "================================================================\n",
            "            Conv2d-1            [-1, 8, 26, 26]              80\n",
            "       BatchNorm2d-2            [-1, 8, 26, 26]              16\n",
            "           Dropout-3            [-1, 8, 26, 26]               0\n",
            "            Conv2d-4            [-1, 8, 24, 24]             584\n",
            "       BatchNorm2d-5            [-1, 8, 24, 24]              16\n",
            "           Dropout-6            [-1, 8, 24, 24]               0\n",
            "            Conv2d-7            [-1, 8, 22, 22]             584\n",
            "       BatchNorm2d-8            [-1, 8, 22, 22]              16\n",
            "           Dropout-9            [-1, 8, 22, 22]               0\n",
            "        AvgPool2d-10            [-1, 8, 11, 11]               0\n",
            "           Conv2d-11             [-1, 16, 9, 9]           1,168\n",
            "      BatchNorm2d-12             [-1, 16, 9, 9]              32\n",
            "          Dropout-13             [-1, 16, 9, 9]               0\n",
            "           Conv2d-14             [-1, 16, 7, 7]           2,320\n",
            "      BatchNorm2d-15             [-1, 16, 7, 7]              32\n",
            "          Dropout-16             [-1, 16, 7, 7]               0\n",
            "           Conv2d-17             [-1, 32, 5, 5]           4,640\n",
            "      BatchNorm2d-18             [-1, 32, 5, 5]              64\n",
            "          Dropout-19             [-1, 32, 5, 5]               0\n",
            "        AvgPool2d-20             [-1, 32, 1, 1]               0\n",
            "           Conv2d-21             [-1, 10, 1, 1]             330\n",
            "================================================================\n",
            "Total params: 9,882\n",
            "Trainable params: 9,882\n",
            "Non-trainable params: 0\n",
            "----------------------------------------------------------------\n",
            "Input size (MB): 0.00\n",
            "Forward/backward pass size (MB): 0.39\n",
            "Params size (MB): 0.04\n",
            "Estimated Total Size (MB): 0.43\n",
            "----------------------------------------------------------------\n"
          ],
          "name": "stdout"
        },
        {
          "output_type": "stream",
          "text": [
            "/usr/local/lib/python3.6/dist-packages/ipykernel_launcher.py:32: UserWarning: Implicit dimension choice for log_softmax has been deprecated. Change the call to include dim=X as an argument.\n"
          ],
          "name": "stderr"
        }
      ]
    },
    {
      "cell_type": "code",
      "metadata": {
        "id": "DqTWLaM5GHgH",
        "colab_type": "code",
        "colab": {}
      },
      "source": [
        "torch.manual_seed(1)\n",
        "batch_size = 64\n",
        "\n",
        "kwargs = {'num_workers': 1, 'pin_memory': True} if use_cuda else {}\n",
        "train_loader = torch.utils.data.DataLoader(\n",
        "    datasets.MNIST('../data', train=True, download=True,\n",
        "                    transform=transforms.Compose([\n",
        "                        transforms.RandomRotation((-5.0,5.0),fill=(1,)),\n",
        "                        transforms.ToTensor(),\n",
        "                        transforms.Normalize((0.1307,), (0.3081,))\n",
        "                    ])),\n",
        "    batch_size=batch_size, shuffle=True, **kwargs)\n",
        "test_loader = torch.utils.data.DataLoader(\n",
        "    datasets.MNIST('../data', train=False, transform=transforms.Compose([\n",
        "                        transforms.ToTensor(),\n",
        "                        transforms.Normalize((0.1307,), (0.3081,))\n",
        "                    ])),\n",
        "    batch_size=batch_size, shuffle=True, **kwargs)\n"
      ],
      "execution_count": 0,
      "outputs": []
    },
    {
      "cell_type": "code",
      "metadata": {
        "id": "8fDefDhaFlwH",
        "colab_type": "code",
        "colab": {}
      },
      "source": [
        "from tqdm import tqdm\n",
        "def train(model, device, train_loader, optimizer, epoch):\n",
        "    model.train()\n",
        "    pbar = tqdm(train_loader)\n",
        "    correct = 0\n",
        "    for batch_idx, (data, target) in enumerate(pbar):\n",
        "        data, target = data.to(device), target.to(device)\n",
        "        optimizer.zero_grad()\n",
        "        output = model(data)\n",
        "        loss = F.nll_loss(output, target)\n",
        "        loss.backward()\n",
        "        optimizer.step()\n",
        "        pbar.set_description(desc= f'loss={loss.item()} batch_id={batch_idx}')\n",
        "        pred = output.argmax(dim=1, keepdim=True)  # get the index of the max log-probability\n",
        "        correct += pred.eq(target.view_as(pred)).sum().item()\n",
        "\n",
        "    print('\\nTrain set: Accuracy: {}/{} ({:.2f}%)\\n'.format(\n",
        "        correct, len(train_loader.dataset),\n",
        "        100. * correct / len(train_loader.dataset)))\n",
        "\n",
        "\n",
        "def test(model, device, test_loader):\n",
        "    model.eval()\n",
        "    test_loss = 0\n",
        "    correct = 0\n",
        "    with torch.no_grad():\n",
        "        for data, target in test_loader:\n",
        "            data, target = data.to(device), target.to(device)\n",
        "            output = model(data)\n",
        "            test_loss += F.nll_loss(output, target, reduction='sum').item()  # sum up batch loss\n",
        "            pred = output.argmax(dim=1, keepdim=True)  # get the index of the max log-probability\n",
        "            correct += pred.eq(target.view_as(pred)).sum().item()\n",
        "\n",
        "    test_loss /= len(test_loader.dataset)\n",
        "\n",
        "    print('\\nTest set: Average loss: {:.4f}, Accuracy: {}/{} ({:.2f}%)\\n'.format(\n",
        "        test_loss, correct, len(test_loader.dataset),\n",
        "        100. * correct / len(test_loader.dataset)))"
      ],
      "execution_count": 0,
      "outputs": []
    },
    {
      "cell_type": "code",
      "metadata": {
        "id": "MMWbLWO6FuHb",
        "colab_type": "code",
        "outputId": "342f6cac-36f6-4e40-aacf-08e9a2774f1d",
        "colab": {
          "base_uri": "https://localhost:8080/",
          "height": 1000
        }
      },
      "source": [
        "model = Net().to(device)\n",
        "optimizer = optim.SGD(model.parameters(), lr=0.01, momentum=0.9)\n",
        "scheduler = StepLR(optimizer,step_size=2,gamma=0.2)\n",
        "\n",
        "for epoch in range(1, 16):\n",
        "    print(\"\\n EPOC NUMBER IS :\", epoch)\n",
        "    train(model, device, train_loader, optimizer, epoch)\n",
        "    test(model, device, test_loader)\n",
        "    print(\"\\n--------------------------------------------------------------------------- \\n\")"
      ],
      "execution_count": 6,
      "outputs": [
        {
          "output_type": "stream",
          "text": [
            "\r  0%|          | 0/938 [00:00<?, ?it/s]"
          ],
          "name": "stderr"
        },
        {
          "output_type": "stream",
          "text": [
            "\n",
            " EPOC NUMBER IS : 1\n"
          ],
          "name": "stdout"
        },
        {
          "output_type": "stream",
          "text": [
            "/usr/local/lib/python3.6/dist-packages/ipykernel_launcher.py:32: UserWarning: Implicit dimension choice for log_softmax has been deprecated. Change the call to include dim=X as an argument.\n",
            "loss=0.21448633074760437 batch_id=937: 100%|██████████| 938/938 [00:17<00:00, 53.22it/s]"
          ],
          "name": "stderr"
        },
        {
          "output_type": "stream",
          "text": [
            "\n",
            "Train set: Accuracy: 55684/60000 (92.81%)\n",
            "\n"
          ],
          "name": "stdout"
        },
        {
          "output_type": "stream",
          "text": [
            "\n",
            "  0%|          | 0/938 [00:00<?, ?it/s]"
          ],
          "name": "stderr"
        },
        {
          "output_type": "stream",
          "text": [
            "\n",
            "Test set: Average loss: 0.0562, Accuracy: 9827/10000 (98.27%)\n",
            "\n",
            "\n",
            "--------------------------------------------------------------------------- \n",
            "\n",
            "\n",
            " EPOC NUMBER IS : 2\n"
          ],
          "name": "stdout"
        },
        {
          "output_type": "stream",
          "text": [
            "loss=0.03152915835380554 batch_id=937: 100%|██████████| 938/938 [00:17<00:00, 54.55it/s]"
          ],
          "name": "stderr"
        },
        {
          "output_type": "stream",
          "text": [
            "\n",
            "Train set: Accuracy: 58644/60000 (97.74%)\n",
            "\n"
          ],
          "name": "stdout"
        },
        {
          "output_type": "stream",
          "text": [
            "\n",
            "  0%|          | 0/938 [00:00<?, ?it/s]"
          ],
          "name": "stderr"
        },
        {
          "output_type": "stream",
          "text": [
            "\n",
            "Test set: Average loss: 0.0389, Accuracy: 9880/10000 (98.80%)\n",
            "\n",
            "\n",
            "--------------------------------------------------------------------------- \n",
            "\n",
            "\n",
            " EPOC NUMBER IS : 3\n"
          ],
          "name": "stdout"
        },
        {
          "output_type": "stream",
          "text": [
            "loss=0.0411776527762413 batch_id=937: 100%|██████████| 938/938 [00:17<00:00, 54.24it/s]"
          ],
          "name": "stderr"
        },
        {
          "output_type": "stream",
          "text": [
            "\n",
            "Train set: Accuracy: 58940/60000 (98.23%)\n",
            "\n"
          ],
          "name": "stdout"
        },
        {
          "output_type": "stream",
          "text": [
            "\n",
            "  0%|          | 0/938 [00:00<?, ?it/s]"
          ],
          "name": "stderr"
        },
        {
          "output_type": "stream",
          "text": [
            "\n",
            "Test set: Average loss: 0.0300, Accuracy: 9910/10000 (99.10%)\n",
            "\n",
            "\n",
            "--------------------------------------------------------------------------- \n",
            "\n",
            "\n",
            " EPOC NUMBER IS : 4\n"
          ],
          "name": "stdout"
        },
        {
          "output_type": "stream",
          "text": [
            "loss=0.01629352569580078 batch_id=937: 100%|██████████| 938/938 [00:17<00:00, 55.04it/s]"
          ],
          "name": "stderr"
        },
        {
          "output_type": "stream",
          "text": [
            "\n",
            "Train set: Accuracy: 59049/60000 (98.42%)\n",
            "\n"
          ],
          "name": "stdout"
        },
        {
          "output_type": "stream",
          "text": [
            "\n",
            "  0%|          | 0/938 [00:00<?, ?it/s]"
          ],
          "name": "stderr"
        },
        {
          "output_type": "stream",
          "text": [
            "\n",
            "Test set: Average loss: 0.0265, Accuracy: 9919/10000 (99.19%)\n",
            "\n",
            "\n",
            "--------------------------------------------------------------------------- \n",
            "\n",
            "\n",
            " EPOC NUMBER IS : 5\n"
          ],
          "name": "stdout"
        },
        {
          "output_type": "stream",
          "text": [
            "loss=0.021258220076560974 batch_id=937: 100%|██████████| 938/938 [00:17<00:00, 54.20it/s]"
          ],
          "name": "stderr"
        },
        {
          "output_type": "stream",
          "text": [
            "\n",
            "Train set: Accuracy: 59168/60000 (98.61%)\n",
            "\n"
          ],
          "name": "stdout"
        },
        {
          "output_type": "stream",
          "text": [
            "\n",
            "  0%|          | 0/938 [00:00<?, ?it/s]"
          ],
          "name": "stderr"
        },
        {
          "output_type": "stream",
          "text": [
            "\n",
            "Test set: Average loss: 0.0246, Accuracy: 9925/10000 (99.25%)\n",
            "\n",
            "\n",
            "--------------------------------------------------------------------------- \n",
            "\n",
            "\n",
            " EPOC NUMBER IS : 6\n"
          ],
          "name": "stdout"
        },
        {
          "output_type": "stream",
          "text": [
            "loss=0.030743002891540527 batch_id=937: 100%|██████████| 938/938 [00:17<00:00, 53.75it/s]"
          ],
          "name": "stderr"
        },
        {
          "output_type": "stream",
          "text": [
            "\n",
            "Train set: Accuracy: 59214/60000 (98.69%)\n",
            "\n"
          ],
          "name": "stdout"
        },
        {
          "output_type": "stream",
          "text": [
            "\n",
            "  0%|          | 0/938 [00:00<?, ?it/s]"
          ],
          "name": "stderr"
        },
        {
          "output_type": "stream",
          "text": [
            "\n",
            "Test set: Average loss: 0.0249, Accuracy: 9923/10000 (99.23%)\n",
            "\n",
            "\n",
            "--------------------------------------------------------------------------- \n",
            "\n",
            "\n",
            " EPOC NUMBER IS : 7\n"
          ],
          "name": "stdout"
        },
        {
          "output_type": "stream",
          "text": [
            "loss=0.0024811923503875732 batch_id=937: 100%|██████████| 938/938 [00:17<00:00, 54.52it/s]"
          ],
          "name": "stderr"
        },
        {
          "output_type": "stream",
          "text": [
            "\n",
            "Train set: Accuracy: 59243/60000 (98.74%)\n",
            "\n"
          ],
          "name": "stdout"
        },
        {
          "output_type": "stream",
          "text": [
            "\n",
            "  0%|          | 0/938 [00:00<?, ?it/s]"
          ],
          "name": "stderr"
        },
        {
          "output_type": "stream",
          "text": [
            "\n",
            "Test set: Average loss: 0.0234, Accuracy: 9931/10000 (99.31%)\n",
            "\n",
            "\n",
            "--------------------------------------------------------------------------- \n",
            "\n",
            "\n",
            " EPOC NUMBER IS : 8\n"
          ],
          "name": "stdout"
        },
        {
          "output_type": "stream",
          "text": [
            "loss=0.0018496662378311157 batch_id=937: 100%|██████████| 938/938 [00:17<00:00, 54.53it/s]"
          ],
          "name": "stderr"
        },
        {
          "output_type": "stream",
          "text": [
            "\n",
            "Train set: Accuracy: 59305/60000 (98.84%)\n",
            "\n"
          ],
          "name": "stdout"
        },
        {
          "output_type": "stream",
          "text": [
            "\n",
            "  0%|          | 0/938 [00:00<?, ?it/s]"
          ],
          "name": "stderr"
        },
        {
          "output_type": "stream",
          "text": [
            "\n",
            "Test set: Average loss: 0.0214, Accuracy: 9934/10000 (99.34%)\n",
            "\n",
            "\n",
            "--------------------------------------------------------------------------- \n",
            "\n",
            "\n",
            " EPOC NUMBER IS : 9\n"
          ],
          "name": "stdout"
        },
        {
          "output_type": "stream",
          "text": [
            "loss=0.01108500361442566 batch_id=937: 100%|██████████| 938/938 [00:17<00:00, 53.91it/s]"
          ],
          "name": "stderr"
        },
        {
          "output_type": "stream",
          "text": [
            "\n",
            "Train set: Accuracy: 59296/60000 (98.83%)\n",
            "\n"
          ],
          "name": "stdout"
        },
        {
          "output_type": "stream",
          "text": [
            "\n",
            "  0%|          | 0/938 [00:00<?, ?it/s]"
          ],
          "name": "stderr"
        },
        {
          "output_type": "stream",
          "text": [
            "\n",
            "Test set: Average loss: 0.0213, Accuracy: 9928/10000 (99.28%)\n",
            "\n",
            "\n",
            "--------------------------------------------------------------------------- \n",
            "\n",
            "\n",
            " EPOC NUMBER IS : 10\n"
          ],
          "name": "stdout"
        },
        {
          "output_type": "stream",
          "text": [
            "loss=0.08165052533149719 batch_id=937: 100%|██████████| 938/938 [00:17<00:00, 54.26it/s]"
          ],
          "name": "stderr"
        },
        {
          "output_type": "stream",
          "text": [
            "\n",
            "Train set: Accuracy: 59348/60000 (98.91%)\n",
            "\n"
          ],
          "name": "stdout"
        },
        {
          "output_type": "stream",
          "text": [
            "\n",
            "  0%|          | 0/938 [00:00<?, ?it/s]"
          ],
          "name": "stderr"
        },
        {
          "output_type": "stream",
          "text": [
            "\n",
            "Test set: Average loss: 0.0209, Accuracy: 9933/10000 (99.33%)\n",
            "\n",
            "\n",
            "--------------------------------------------------------------------------- \n",
            "\n",
            "\n",
            " EPOC NUMBER IS : 11\n"
          ],
          "name": "stdout"
        },
        {
          "output_type": "stream",
          "text": [
            "loss=0.004422739148139954 batch_id=937: 100%|██████████| 938/938 [00:16<00:00, 55.67it/s]"
          ],
          "name": "stderr"
        },
        {
          "output_type": "stream",
          "text": [
            "\n",
            "Train set: Accuracy: 59394/60000 (98.99%)\n",
            "\n"
          ],
          "name": "stdout"
        },
        {
          "output_type": "stream",
          "text": [
            "\n",
            "  0%|          | 0/938 [00:00<?, ?it/s]"
          ],
          "name": "stderr"
        },
        {
          "output_type": "stream",
          "text": [
            "\n",
            "Test set: Average loss: 0.0217, Accuracy: 9926/10000 (99.26%)\n",
            "\n",
            "\n",
            "--------------------------------------------------------------------------- \n",
            "\n",
            "\n",
            " EPOC NUMBER IS : 12\n"
          ],
          "name": "stdout"
        },
        {
          "output_type": "stream",
          "text": [
            "loss=0.017362147569656372 batch_id=937: 100%|██████████| 938/938 [00:16<00:00, 55.63it/s]"
          ],
          "name": "stderr"
        },
        {
          "output_type": "stream",
          "text": [
            "\n",
            "Train set: Accuracy: 59376/60000 (98.96%)\n",
            "\n"
          ],
          "name": "stdout"
        },
        {
          "output_type": "stream",
          "text": [
            "\n",
            "  0%|          | 0/938 [00:00<?, ?it/s]"
          ],
          "name": "stderr"
        },
        {
          "output_type": "stream",
          "text": [
            "\n",
            "Test set: Average loss: 0.0193, Accuracy: 9936/10000 (99.36%)\n",
            "\n",
            "\n",
            "--------------------------------------------------------------------------- \n",
            "\n",
            "\n",
            " EPOC NUMBER IS : 13\n"
          ],
          "name": "stdout"
        },
        {
          "output_type": "stream",
          "text": [
            "loss=0.04646587371826172 batch_id=937: 100%|██████████| 938/938 [00:16<00:00, 55.27it/s]"
          ],
          "name": "stderr"
        },
        {
          "output_type": "stream",
          "text": [
            "\n",
            "Train set: Accuracy: 59397/60000 (99.00%)\n",
            "\n"
          ],
          "name": "stdout"
        },
        {
          "output_type": "stream",
          "text": [
            "\n",
            "  0%|          | 0/938 [00:00<?, ?it/s]"
          ],
          "name": "stderr"
        },
        {
          "output_type": "stream",
          "text": [
            "\n",
            "Test set: Average loss: 0.0192, Accuracy: 9939/10000 (99.39%)\n",
            "\n",
            "\n",
            "--------------------------------------------------------------------------- \n",
            "\n",
            "\n",
            " EPOC NUMBER IS : 14\n"
          ],
          "name": "stdout"
        },
        {
          "output_type": "stream",
          "text": [
            "loss=0.005466267466545105 batch_id=937: 100%|██████████| 938/938 [00:16<00:00, 55.39it/s]"
          ],
          "name": "stderr"
        },
        {
          "output_type": "stream",
          "text": [
            "\n",
            "Train set: Accuracy: 59405/60000 (99.01%)\n",
            "\n"
          ],
          "name": "stdout"
        },
        {
          "output_type": "stream",
          "text": [
            "\n",
            "  0%|          | 0/938 [00:00<?, ?it/s]"
          ],
          "name": "stderr"
        },
        {
          "output_type": "stream",
          "text": [
            "\n",
            "Test set: Average loss: 0.0179, Accuracy: 9941/10000 (99.41%)\n",
            "\n",
            "\n",
            "--------------------------------------------------------------------------- \n",
            "\n",
            "\n",
            " EPOC NUMBER IS : 15\n"
          ],
          "name": "stdout"
        },
        {
          "output_type": "stream",
          "text": [
            "loss=0.018329307436943054 batch_id=937: 100%|██████████| 938/938 [00:16<00:00, 55.47it/s]"
          ],
          "name": "stderr"
        },
        {
          "output_type": "stream",
          "text": [
            "\n",
            "Train set: Accuracy: 59404/60000 (99.01%)\n",
            "\n"
          ],
          "name": "stdout"
        },
        {
          "output_type": "stream",
          "text": [
            "\n"
          ],
          "name": "stderr"
        },
        {
          "output_type": "stream",
          "text": [
            "\n",
            "Test set: Average loss: 0.0184, Accuracy: 9943/10000 (99.43%)\n",
            "\n",
            "\n",
            "--------------------------------------------------------------------------- \n",
            "\n"
          ],
          "name": "stdout"
        }
      ]
    },
    {
      "cell_type": "code",
      "metadata": {
        "id": "So5uk4EkHW6R",
        "colab_type": "code",
        "colab": {}
      },
      "source": [
        ""
      ],
      "execution_count": 0,
      "outputs": []
    }
  ]
}