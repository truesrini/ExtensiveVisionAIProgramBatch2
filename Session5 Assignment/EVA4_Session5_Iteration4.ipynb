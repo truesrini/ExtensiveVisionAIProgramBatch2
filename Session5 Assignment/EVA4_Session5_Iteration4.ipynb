{
  "nbformat": 4,
  "nbformat_minor": 0,
  "metadata": {
    "colab": {
      "name": "EVA4_Session5_Iteration4.ipynb",
      "provenance": [],
      "collapsed_sections": []
    },
    "kernelspec": {
      "name": "python3",
      "display_name": "Python 3"
    },
    "accelerator": "GPU"
  },
  "cells": [
    {
      "cell_type": "markdown",
      "metadata": {
        "id": "EooNQQXjCWp_",
        "colab_type": "text"
      },
      "source": [
        "# Analysis\n",
        "## Target\n",
        "In the last notebook the parameters were reduced but even after adding image agumentation the accuracy was only at 99.19%. From the images it doesn't look like there is much to be filtered, so it looks like Global Average Pooling as a way of increasing reseptive field might be better than Max pooling.\n",
        "\n",
        "## Result\n",
        "Best Training Accuracy achieved in Epoch 14 :98.00%          \n",
        "Best Test Accuracy is achieved in Epoch :99.28%    \n",
        "\n",
        "## Analysis\n",
        "The accuracy again had increased marginally, but it has still not reached the required 99.40% even once. Thinking if I should rearrange the architecture to have only one global average pooling\n"
      ]
    },
    {
      "cell_type": "code",
      "metadata": {
        "id": "0m2JWFliFfKT",
        "colab_type": "code",
        "colab": {}
      },
      "source": [
        "from __future__ import print_function\n",
        "import torch\n",
        "import torch.nn as nn\n",
        "import torch.nn.functional as F\n",
        "import torch.optim as optim\n",
        "from torch.optim.lr_scheduler import StepLR\n",
        "from torchvision import datasets, transforms"
      ],
      "execution_count": 0,
      "outputs": []
    },
    {
      "cell_type": "code",
      "metadata": {
        "id": "h_Cx9q2QFgM7",
        "colab_type": "code",
        "colab": {}
      },
      "source": [
        "class Net(nn.Module):\n",
        "    def __init__(self):\n",
        "        super(Net, self).__init__()\n",
        "        self.conv1 = nn.Conv2d(1, 4, 3, padding=1)\n",
        "        self.batchnorm1 = nn.BatchNorm2d(4)\n",
        "        self.dropout1 = nn.Dropout(0.15)\n",
        "        self.conv2 = nn.Conv2d(4, 4, 3, padding=1)\n",
        "        self.batchnorm2 = nn.BatchNorm2d(4)\n",
        "        self.dropout2 = nn.Dropout(0.15)\n",
        "        self.conv3 = nn.Conv2d(4, 4, 3, padding=1)\n",
        "        self.batchnorm3 = nn.BatchNorm2d(4)\n",
        "        self.dropout3 = nn.Dropout(0.15)\n",
        "        self.conv3a = nn.Conv2d(4, 4, 3, padding=1)\n",
        "        self.batchnorm3a = nn.BatchNorm2d(4)\n",
        "        self.dropout3a = nn.Dropout(0.15)\n",
        "        self.pool1 = nn.AvgPool2d(2, 2)\n",
        "        self.conv4 = nn.Conv2d(4, 8, 3, padding=1)\n",
        "        self.batchnorm4 = nn.BatchNorm2d(8)\n",
        "        self.dropout4 = nn.Dropout(0.15)\n",
        "        self.conv5 = nn.Conv2d(8, 8, 3, padding=1)\n",
        "        self.batchnorm5 = nn.BatchNorm2d(8)\n",
        "        self.dropout5 = nn.Dropout(0.15)\n",
        "        self.conv6 = nn.Conv2d(8, 8, 3, padding=1)\n",
        "        self.batchnorm6 = nn.BatchNorm2d(8)\n",
        "        self.dropout6 = nn.Dropout(0.15)\n",
        "        self.conv6a = nn.Conv2d(8, 8, 3, padding=1)\n",
        "        self.batchnorm6a = nn.BatchNorm2d(8)\n",
        "        self.dropout6a = nn.Dropout(0.15)\n",
        "        self.pool2 = nn.AvgPool2d(2, 2)\n",
        "        self.conv7 = nn.Conv2d(8, 16, 3)\n",
        "        self.batchnorm7 = nn.BatchNorm2d(16)\n",
        "        self.dropout7 = nn.Dropout(0.15)\n",
        "        self.conv8 = nn.Conv2d(16, 16, 3)\n",
        "        self.batchnorm8= nn.BatchNorm2d(16)\n",
        "        self.dropout8 = nn.Dropout(0.15)\n",
        "        self.conv8a = nn.Conv2d(16, 16, 3)\n",
        "        self.batchnorm8a= nn.BatchNorm2d(16)\n",
        "        self.dropout8a = nn.Dropout(0.15)\n",
        "        self.conv9 = nn.Conv2d(16, 10, 1)\n",
        "\n",
        "\n",
        "    def forward(self, x):\n",
        "        x = self.pool1(self.dropout3a(self.batchnorm3a(F.relu(self.conv3a(self.dropout3(self.batchnorm3(F.relu(self.conv3(self.dropout2(self.batchnorm2(F.relu(self.conv2(self.dropout1(self.batchnorm1(F.relu(self.conv1(x)))))))))))))))))\n",
        "        x = self.pool2(self.dropout6a(self.batchnorm6a(F.relu(self.conv6a(self.dropout6(self.batchnorm6(F.relu(self.conv6(self.dropout5(self.batchnorm5(F.relu(self.conv5(self.dropout4(self.batchnorm4(F.relu(self.conv4(x)))))))))))))))))\n",
        "        x = self.dropout8a(self.batchnorm8a(F.relu(self.conv8a(self.dropout8(self.batchnorm8(F.relu(self.conv8(self.dropout7(self.batchnorm7(F.relu(self.conv7(x))))))))))))\n",
        "#        x = F.relu(self.conv9(x))\n",
        "        x = self.conv9(x)\n",
        "        x = x.view(-1, 10)\n",
        "        return F.log_softmax(x)"
      ],
      "execution_count": 0,
      "outputs": []
    },
    {
      "cell_type": "code",
      "metadata": {
        "colab_type": "code",
        "id": "xdydjYTZFyi3",
        "outputId": "d3a3c5fa-db61-4260-b107-f8d9a0164f10",
        "colab": {
          "base_uri": "https://localhost:8080/",
          "height": 894
        }
      },
      "source": [
        "!pip install torchsummary\n",
        "from torchsummary import summary\n",
        "use_cuda = torch.cuda.is_available()\n",
        "device = torch.device(\"cuda\" if use_cuda else \"cpu\")\n",
        "model = Net().to(device)\n",
        "summary(model, input_size=(1, 28, 28))"
      ],
      "execution_count": 3,
      "outputs": [
        {
          "output_type": "stream",
          "text": [
            "Requirement already satisfied: torchsummary in /usr/local/lib/python3.6/dist-packages (1.5.1)\n",
            "----------------------------------------------------------------\n",
            "        Layer (type)               Output Shape         Param #\n",
            "================================================================\n",
            "            Conv2d-1            [-1, 4, 28, 28]              40\n",
            "       BatchNorm2d-2            [-1, 4, 28, 28]               8\n",
            "           Dropout-3            [-1, 4, 28, 28]               0\n",
            "            Conv2d-4            [-1, 4, 28, 28]             148\n",
            "       BatchNorm2d-5            [-1, 4, 28, 28]               8\n",
            "           Dropout-6            [-1, 4, 28, 28]               0\n",
            "            Conv2d-7            [-1, 4, 28, 28]             148\n",
            "       BatchNorm2d-8            [-1, 4, 28, 28]               8\n",
            "           Dropout-9            [-1, 4, 28, 28]               0\n",
            "           Conv2d-10            [-1, 4, 28, 28]             148\n",
            "      BatchNorm2d-11            [-1, 4, 28, 28]               8\n",
            "          Dropout-12            [-1, 4, 28, 28]               0\n",
            "        AvgPool2d-13            [-1, 4, 14, 14]               0\n",
            "           Conv2d-14            [-1, 8, 14, 14]             296\n",
            "      BatchNorm2d-15            [-1, 8, 14, 14]              16\n",
            "          Dropout-16            [-1, 8, 14, 14]               0\n",
            "           Conv2d-17            [-1, 8, 14, 14]             584\n",
            "      BatchNorm2d-18            [-1, 8, 14, 14]              16\n",
            "          Dropout-19            [-1, 8, 14, 14]               0\n",
            "           Conv2d-20            [-1, 8, 14, 14]             584\n",
            "      BatchNorm2d-21            [-1, 8, 14, 14]              16\n",
            "          Dropout-22            [-1, 8, 14, 14]               0\n",
            "           Conv2d-23            [-1, 8, 14, 14]             584\n",
            "      BatchNorm2d-24            [-1, 8, 14, 14]              16\n",
            "          Dropout-25            [-1, 8, 14, 14]               0\n",
            "        AvgPool2d-26              [-1, 8, 7, 7]               0\n",
            "           Conv2d-27             [-1, 16, 5, 5]           1,168\n",
            "      BatchNorm2d-28             [-1, 16, 5, 5]              32\n",
            "          Dropout-29             [-1, 16, 5, 5]               0\n",
            "           Conv2d-30             [-1, 16, 3, 3]           2,320\n",
            "      BatchNorm2d-31             [-1, 16, 3, 3]              32\n",
            "          Dropout-32             [-1, 16, 3, 3]               0\n",
            "           Conv2d-33             [-1, 16, 1, 1]           2,320\n",
            "      BatchNorm2d-34             [-1, 16, 1, 1]              32\n",
            "          Dropout-35             [-1, 16, 1, 1]               0\n",
            "           Conv2d-36             [-1, 10, 1, 1]             170\n",
            "================================================================\n",
            "Total params: 8,702\n",
            "Trainable params: 8,702\n",
            "Non-trainable params: 0\n",
            "----------------------------------------------------------------\n",
            "Input size (MB): 0.00\n",
            "Forward/backward pass size (MB): 0.45\n",
            "Params size (MB): 0.03\n",
            "Estimated Total Size (MB): 0.49\n",
            "----------------------------------------------------------------\n"
          ],
          "name": "stdout"
        },
        {
          "output_type": "stream",
          "text": [
            "/usr/local/lib/python3.6/dist-packages/ipykernel_launcher.py:49: UserWarning: Implicit dimension choice for log_softmax has been deprecated. Change the call to include dim=X as an argument.\n"
          ],
          "name": "stderr"
        }
      ]
    },
    {
      "cell_type": "code",
      "metadata": {
        "id": "DqTWLaM5GHgH",
        "colab_type": "code",
        "colab": {}
      },
      "source": [
        "torch.manual_seed(1)\n",
        "batch_size = 64\n",
        "\n",
        "kwargs = {'num_workers': 1, 'pin_memory': True} if use_cuda else {}\n",
        "train_loader = torch.utils.data.DataLoader(\n",
        "    datasets.MNIST('../data', train=True, download=True,\n",
        "                    transform=transforms.Compose([\n",
        "                        transforms.RandomRotation((-5.0,5.0),fill=(1,)),\n",
        "                        transforms.ToTensor(),\n",
        "                        transforms.Normalize((0.1307,), (0.3081,))\n",
        "                    ])),\n",
        "    batch_size=batch_size, shuffle=True, **kwargs)\n",
        "test_loader = torch.utils.data.DataLoader(\n",
        "    datasets.MNIST('../data', train=False, transform=transforms.Compose([\n",
        "                        transforms.ToTensor(),\n",
        "                        transforms.Normalize((0.1307,), (0.3081,))\n",
        "                    ])),\n",
        "    batch_size=batch_size, shuffle=True, **kwargs)\n"
      ],
      "execution_count": 0,
      "outputs": []
    },
    {
      "cell_type": "code",
      "metadata": {
        "id": "8fDefDhaFlwH",
        "colab_type": "code",
        "colab": {}
      },
      "source": [
        "from tqdm import tqdm\n",
        "def train(model, device, train_loader, optimizer, epoch):\n",
        "    model.train()\n",
        "    pbar = tqdm(train_loader)\n",
        "    correct = 0\n",
        "    for batch_idx, (data, target) in enumerate(pbar):\n",
        "        data, target = data.to(device), target.to(device)\n",
        "        optimizer.zero_grad()\n",
        "        output = model(data)\n",
        "        loss = F.nll_loss(output, target)\n",
        "        loss.backward()\n",
        "        optimizer.step()\n",
        "        pbar.set_description(desc= f'loss={loss.item()} batch_id={batch_idx}')\n",
        "        pred = output.argmax(dim=1, keepdim=True)  # get the index of the max log-probability\n",
        "        correct += pred.eq(target.view_as(pred)).sum().item()\n",
        "\n",
        "    print('\\nTrain set: Accuracy: {}/{} ({:.2f}%)\\n'.format(\n",
        "        correct, len(train_loader.dataset),\n",
        "        100. * correct / len(train_loader.dataset)))\n",
        "\n",
        "\n",
        "def test(model, device, test_loader):\n",
        "    model.eval()\n",
        "    test_loss = 0\n",
        "    correct = 0\n",
        "    with torch.no_grad():\n",
        "        for data, target in test_loader:\n",
        "            data, target = data.to(device), target.to(device)\n",
        "            output = model(data)\n",
        "            test_loss += F.nll_loss(output, target, reduction='sum').item()  # sum up batch loss\n",
        "            pred = output.argmax(dim=1, keepdim=True)  # get the index of the max log-probability\n",
        "            correct += pred.eq(target.view_as(pred)).sum().item()\n",
        "\n",
        "    test_loss /= len(test_loader.dataset)\n",
        "\n",
        "    print('\\nTest set: Average loss: {:.4f}, Accuracy: {}/{} ({:.2f}%)\\n'.format(\n",
        "        test_loss, correct, len(test_loader.dataset),\n",
        "        100. * correct / len(test_loader.dataset)))"
      ],
      "execution_count": 0,
      "outputs": []
    },
    {
      "cell_type": "code",
      "metadata": {
        "id": "MMWbLWO6FuHb",
        "colab_type": "code",
        "outputId": "911f97f1-50a9-4ebe-b671-19836c4bb7de",
        "colab": {
          "base_uri": "https://localhost:8080/",
          "height": 1000
        }
      },
      "source": [
        "model = Net().to(device)\n",
        "optimizer = optim.SGD(model.parameters(), lr=0.01, momentum=0.9)\n",
        "scheduler = StepLR(optimizer,step_size=2,gamma=0.45)\n",
        "\n",
        "for epoch in range(1, 16):\n",
        "    print(\"\\n EPOC NUMBER IS :\", epoch)\n",
        "    train(model, device, train_loader, optimizer, epoch)\n",
        "    test(model, device, test_loader)\n",
        "    print(\"\\n--------------------------------------------------------------------------- \\n\")"
      ],
      "execution_count": 6,
      "outputs": [
        {
          "output_type": "stream",
          "text": [
            "\r  0%|          | 0/938 [00:00<?, ?it/s]"
          ],
          "name": "stderr"
        },
        {
          "output_type": "stream",
          "text": [
            "\n",
            " EPOC NUMBER IS : 1\n"
          ],
          "name": "stdout"
        },
        {
          "output_type": "stream",
          "text": [
            "/usr/local/lib/python3.6/dist-packages/ipykernel_launcher.py:49: UserWarning: Implicit dimension choice for log_softmax has been deprecated. Change the call to include dim=X as an argument.\n",
            "loss=0.4235340654850006 batch_id=937: 100%|██████████| 938/938 [00:29<00:00, 31.56it/s]"
          ],
          "name": "stderr"
        },
        {
          "output_type": "stream",
          "text": [
            "\n",
            "Train set: Accuracy: 53786/60000 (89.64%)\n",
            "\n"
          ],
          "name": "stdout"
        },
        {
          "output_type": "stream",
          "text": [
            "\n",
            "  0%|          | 0/938 [00:00<?, ?it/s]"
          ],
          "name": "stderr"
        },
        {
          "output_type": "stream",
          "text": [
            "\n",
            "Test set: Average loss: 0.0605, Accuracy: 9796/10000 (97.96%)\n",
            "\n",
            "\n",
            "--------------------------------------------------------------------------- \n",
            "\n",
            "\n",
            " EPOC NUMBER IS : 2\n"
          ],
          "name": "stdout"
        },
        {
          "output_type": "stream",
          "text": [
            "loss=0.03164689242839813 batch_id=937: 100%|██████████| 938/938 [00:30<00:00, 31.21it/s]"
          ],
          "name": "stderr"
        },
        {
          "output_type": "stream",
          "text": [
            "\n",
            "Train set: Accuracy: 57472/60000 (95.79%)\n",
            "\n"
          ],
          "name": "stdout"
        },
        {
          "output_type": "stream",
          "text": [
            "\n",
            "  0%|          | 0/938 [00:00<?, ?it/s]"
          ],
          "name": "stderr"
        },
        {
          "output_type": "stream",
          "text": [
            "\n",
            "Test set: Average loss: 0.0474, Accuracy: 9844/10000 (98.44%)\n",
            "\n",
            "\n",
            "--------------------------------------------------------------------------- \n",
            "\n",
            "\n",
            " EPOC NUMBER IS : 3\n"
          ],
          "name": "stdout"
        },
        {
          "output_type": "stream",
          "text": [
            "loss=0.019212961196899414 batch_id=937: 100%|██████████| 938/938 [00:29<00:00, 31.54it/s]"
          ],
          "name": "stderr"
        },
        {
          "output_type": "stream",
          "text": [
            "\n",
            "Train set: Accuracy: 57908/60000 (96.51%)\n",
            "\n"
          ],
          "name": "stdout"
        },
        {
          "output_type": "stream",
          "text": [
            "\n",
            "  0%|          | 0/938 [00:00<?, ?it/s]"
          ],
          "name": "stderr"
        },
        {
          "output_type": "stream",
          "text": [
            "\n",
            "Test set: Average loss: 0.0399, Accuracy: 9870/10000 (98.70%)\n",
            "\n",
            "\n",
            "--------------------------------------------------------------------------- \n",
            "\n",
            "\n",
            " EPOC NUMBER IS : 4\n"
          ],
          "name": "stdout"
        },
        {
          "output_type": "stream",
          "text": [
            "loss=0.07694190740585327 batch_id=937: 100%|██████████| 938/938 [00:29<00:00, 31.62it/s]"
          ],
          "name": "stderr"
        },
        {
          "output_type": "stream",
          "text": [
            "\n",
            "Train set: Accuracy: 58213/60000 (97.02%)\n",
            "\n"
          ],
          "name": "stdout"
        },
        {
          "output_type": "stream",
          "text": [
            "\n",
            "  0%|          | 0/938 [00:00<?, ?it/s]"
          ],
          "name": "stderr"
        },
        {
          "output_type": "stream",
          "text": [
            "\n",
            "Test set: Average loss: 0.0399, Accuracy: 9879/10000 (98.79%)\n",
            "\n",
            "\n",
            "--------------------------------------------------------------------------- \n",
            "\n",
            "\n",
            " EPOC NUMBER IS : 5\n"
          ],
          "name": "stdout"
        },
        {
          "output_type": "stream",
          "text": [
            "loss=0.023354768753051758 batch_id=937: 100%|██████████| 938/938 [00:30<00:00, 31.23it/s]"
          ],
          "name": "stderr"
        },
        {
          "output_type": "stream",
          "text": [
            "\n",
            "Train set: Accuracy: 58314/60000 (97.19%)\n",
            "\n"
          ],
          "name": "stdout"
        },
        {
          "output_type": "stream",
          "text": [
            "\n",
            "  0%|          | 0/938 [00:00<?, ?it/s]"
          ],
          "name": "stderr"
        },
        {
          "output_type": "stream",
          "text": [
            "\n",
            "Test set: Average loss: 0.0340, Accuracy: 9900/10000 (99.00%)\n",
            "\n",
            "\n",
            "--------------------------------------------------------------------------- \n",
            "\n",
            "\n",
            " EPOC NUMBER IS : 6\n"
          ],
          "name": "stdout"
        },
        {
          "output_type": "stream",
          "text": [
            "loss=0.018413037061691284 batch_id=937: 100%|██████████| 938/938 [00:29<00:00, 31.51it/s]"
          ],
          "name": "stderr"
        },
        {
          "output_type": "stream",
          "text": [
            "\n",
            "Train set: Accuracy: 58338/60000 (97.23%)\n",
            "\n"
          ],
          "name": "stdout"
        },
        {
          "output_type": "stream",
          "text": [
            "\n",
            "  0%|          | 0/938 [00:00<?, ?it/s]"
          ],
          "name": "stderr"
        },
        {
          "output_type": "stream",
          "text": [
            "\n",
            "Test set: Average loss: 0.0301, Accuracy: 9906/10000 (99.06%)\n",
            "\n",
            "\n",
            "--------------------------------------------------------------------------- \n",
            "\n",
            "\n",
            " EPOC NUMBER IS : 7\n"
          ],
          "name": "stdout"
        },
        {
          "output_type": "stream",
          "text": [
            "loss=0.16778500378131866 batch_id=937: 100%|██████████| 938/938 [00:29<00:00, 31.54it/s]"
          ],
          "name": "stderr"
        },
        {
          "output_type": "stream",
          "text": [
            "\n",
            "Train set: Accuracy: 58501/60000 (97.50%)\n",
            "\n"
          ],
          "name": "stdout"
        },
        {
          "output_type": "stream",
          "text": [
            "\n",
            "  0%|          | 0/938 [00:00<?, ?it/s]"
          ],
          "name": "stderr"
        },
        {
          "output_type": "stream",
          "text": [
            "\n",
            "Test set: Average loss: 0.0319, Accuracy: 9899/10000 (98.99%)\n",
            "\n",
            "\n",
            "--------------------------------------------------------------------------- \n",
            "\n",
            "\n",
            " EPOC NUMBER IS : 8\n"
          ],
          "name": "stdout"
        },
        {
          "output_type": "stream",
          "text": [
            "loss=0.16792258620262146 batch_id=937: 100%|██████████| 938/938 [00:29<00:00, 31.69it/s]\n"
          ],
          "name": "stderr"
        },
        {
          "output_type": "stream",
          "text": [
            "\n",
            "Train set: Accuracy: 58569/60000 (97.61%)\n",
            "\n"
          ],
          "name": "stdout"
        },
        {
          "output_type": "stream",
          "text": [
            "\r  0%|          | 0/938 [00:00<?, ?it/s]"
          ],
          "name": "stderr"
        },
        {
          "output_type": "stream",
          "text": [
            "\n",
            "Test set: Average loss: 0.0283, Accuracy: 9909/10000 (99.09%)\n",
            "\n",
            "\n",
            "--------------------------------------------------------------------------- \n",
            "\n",
            "\n",
            " EPOC NUMBER IS : 9\n"
          ],
          "name": "stdout"
        },
        {
          "output_type": "stream",
          "text": [
            "loss=0.007870480418205261 batch_id=937: 100%|██████████| 938/938 [00:29<00:00, 31.74it/s]"
          ],
          "name": "stderr"
        },
        {
          "output_type": "stream",
          "text": [
            "\n",
            "Train set: Accuracy: 58587/60000 (97.64%)\n",
            "\n"
          ],
          "name": "stdout"
        },
        {
          "output_type": "stream",
          "text": [
            "\n",
            "  0%|          | 0/938 [00:00<?, ?it/s]"
          ],
          "name": "stderr"
        },
        {
          "output_type": "stream",
          "text": [
            "\n",
            "Test set: Average loss: 0.0350, Accuracy: 9887/10000 (98.87%)\n",
            "\n",
            "\n",
            "--------------------------------------------------------------------------- \n",
            "\n",
            "\n",
            " EPOC NUMBER IS : 10\n"
          ],
          "name": "stdout"
        },
        {
          "output_type": "stream",
          "text": [
            "loss=0.003990277647972107 batch_id=937: 100%|██████████| 938/938 [00:29<00:00, 31.42it/s]"
          ],
          "name": "stderr"
        },
        {
          "output_type": "stream",
          "text": [
            "\n",
            "Train set: Accuracy: 58657/60000 (97.76%)\n",
            "\n"
          ],
          "name": "stdout"
        },
        {
          "output_type": "stream",
          "text": [
            "\n",
            "  0%|          | 0/938 [00:00<?, ?it/s]"
          ],
          "name": "stderr"
        },
        {
          "output_type": "stream",
          "text": [
            "\n",
            "Test set: Average loss: 0.0282, Accuracy: 9910/10000 (99.10%)\n",
            "\n",
            "\n",
            "--------------------------------------------------------------------------- \n",
            "\n",
            "\n",
            " EPOC NUMBER IS : 11\n"
          ],
          "name": "stdout"
        },
        {
          "output_type": "stream",
          "text": [
            "loss=0.023627668619155884 batch_id=937: 100%|██████████| 938/938 [00:29<00:00, 31.54it/s]\n"
          ],
          "name": "stderr"
        },
        {
          "output_type": "stream",
          "text": [
            "\n",
            "Train set: Accuracy: 58662/60000 (97.77%)\n",
            "\n"
          ],
          "name": "stdout"
        },
        {
          "output_type": "stream",
          "text": [
            "\r  0%|          | 0/938 [00:00<?, ?it/s]"
          ],
          "name": "stderr"
        },
        {
          "output_type": "stream",
          "text": [
            "\n",
            "Test set: Average loss: 0.0294, Accuracy: 9913/10000 (99.13%)\n",
            "\n",
            "\n",
            "--------------------------------------------------------------------------- \n",
            "\n",
            "\n",
            " EPOC NUMBER IS : 12\n"
          ],
          "name": "stdout"
        },
        {
          "output_type": "stream",
          "text": [
            "loss=0.025683864951133728 batch_id=937: 100%|██████████| 938/938 [00:29<00:00, 31.39it/s]"
          ],
          "name": "stderr"
        },
        {
          "output_type": "stream",
          "text": [
            "\n",
            "Train set: Accuracy: 58709/60000 (97.85%)\n",
            "\n"
          ],
          "name": "stdout"
        },
        {
          "output_type": "stream",
          "text": [
            "\n",
            "  0%|          | 0/938 [00:00<?, ?it/s]"
          ],
          "name": "stderr"
        },
        {
          "output_type": "stream",
          "text": [
            "\n",
            "Test set: Average loss: 0.0260, Accuracy: 9908/10000 (99.08%)\n",
            "\n",
            "\n",
            "--------------------------------------------------------------------------- \n",
            "\n",
            "\n",
            " EPOC NUMBER IS : 13\n"
          ],
          "name": "stdout"
        },
        {
          "output_type": "stream",
          "text": [
            "loss=0.2751375734806061 batch_id=937: 100%|██████████| 938/938 [00:29<00:00, 31.50it/s]"
          ],
          "name": "stderr"
        },
        {
          "output_type": "stream",
          "text": [
            "\n",
            "Train set: Accuracy: 58734/60000 (97.89%)\n",
            "\n"
          ],
          "name": "stdout"
        },
        {
          "output_type": "stream",
          "text": [
            "\n",
            "  0%|          | 0/938 [00:00<?, ?it/s]"
          ],
          "name": "stderr"
        },
        {
          "output_type": "stream",
          "text": [
            "\n",
            "Test set: Average loss: 0.0257, Accuracy: 9921/10000 (99.21%)\n",
            "\n",
            "\n",
            "--------------------------------------------------------------------------- \n",
            "\n",
            "\n",
            " EPOC NUMBER IS : 14\n"
          ],
          "name": "stdout"
        },
        {
          "output_type": "stream",
          "text": [
            "loss=0.14836132526397705 batch_id=937: 100%|██████████| 938/938 [00:30<00:00, 31.16it/s]"
          ],
          "name": "stderr"
        },
        {
          "output_type": "stream",
          "text": [
            "\n",
            "Train set: Accuracy: 58799/60000 (98.00%)\n",
            "\n"
          ],
          "name": "stdout"
        },
        {
          "output_type": "stream",
          "text": [
            "\n",
            "  0%|          | 0/938 [00:00<?, ?it/s]"
          ],
          "name": "stderr"
        },
        {
          "output_type": "stream",
          "text": [
            "\n",
            "Test set: Average loss: 0.0226, Accuracy: 9928/10000 (99.28%)\n",
            "\n",
            "\n",
            "--------------------------------------------------------------------------- \n",
            "\n",
            "\n",
            " EPOC NUMBER IS : 15\n"
          ],
          "name": "stdout"
        },
        {
          "output_type": "stream",
          "text": [
            "loss=0.04957345128059387 batch_id=937: 100%|██████████| 938/938 [00:29<00:00, 31.37it/s]"
          ],
          "name": "stderr"
        },
        {
          "output_type": "stream",
          "text": [
            "\n",
            "Train set: Accuracy: 58734/60000 (97.89%)\n",
            "\n"
          ],
          "name": "stdout"
        },
        {
          "output_type": "stream",
          "text": [
            "\n"
          ],
          "name": "stderr"
        },
        {
          "output_type": "stream",
          "text": [
            "\n",
            "Test set: Average loss: 0.0224, Accuracy: 9924/10000 (99.24%)\n",
            "\n",
            "\n",
            "--------------------------------------------------------------------------- \n",
            "\n"
          ],
          "name": "stdout"
        }
      ]
    },
    {
      "cell_type": "code",
      "metadata": {
        "id": "So5uk4EkHW6R",
        "colab_type": "code",
        "colab": {}
      },
      "source": [
        ""
      ],
      "execution_count": 0,
      "outputs": []
    }
  ]
}