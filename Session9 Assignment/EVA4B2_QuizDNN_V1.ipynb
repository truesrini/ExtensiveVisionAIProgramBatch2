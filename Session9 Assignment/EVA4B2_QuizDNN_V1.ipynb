{
  "nbformat": 4,
  "nbformat_minor": 0,
  "metadata": {
    "colab": {
      "name": "EVA4B2 Session8 Assignment V1.ipynb",
      "provenance": [],
      "collapsed_sections": [],
      "authorship_tag": "ABX9TyPNIEJBnZpYzgZHy0ntJZF0",
      "include_colab_link": true
    },
    "kernelspec": {
      "name": "python3",
      "display_name": "Python 3"
    },
    "accelerator": "GPU"
  },
  "cells": [
    {
      "cell_type": "markdown",
      "metadata": {
        "id": "view-in-github",
        "colab_type": "text"
      },
      "source": [
        "<a href=\"https://colab.research.google.com/github/truesrini/ExtensiveVisionAIProgramBatch2/blob/master/Session8%20Assignment/EVA4B2_Session8_Assignment_V1.ipynb\" target=\"_parent\"><img src=\"https://colab.research.google.com/assets/colab-badge.svg\" alt=\"Open In Colab\"/></a>"
      ]
    },
    {
      "cell_type": "markdown",
      "metadata": {
        "id": "1Wm1PFYPGpez",
        "colab_type": "text"
      },
      "source": [
        "#RESNET with CIFAR Session 8 Assignment - Modular Code"
      ]
    },
    {
      "cell_type": "markdown",
      "metadata": {
        "id": "8VW-nqNHHClD",
        "colab_type": "text"
      },
      "source": [
        "## Import relevant packages"
      ]
    },
    {
      "cell_type": "code",
      "metadata": {
        "id": "b4f1x2FgGbZ4",
        "colab_type": "code",
        "colab": {}
      },
      "source": [
        "from __future__ import print_function\n",
        "%matplotlib inline"
      ],
      "execution_count": 0,
      "outputs": []
    },
    {
      "cell_type": "code",
      "metadata": {
        "id": "7iItQwiaGmQa",
        "colab_type": "code",
        "colab": {
          "base_uri": "https://localhost:8080/",
          "height": 34
        },
        "outputId": "bc7ac0da-62d0-4ebc-e7a8-df1324dbaebc"
      },
      "source": [
        "import torch\n",
        "import torchvision\n",
        "import torchvision.transforms as transforms\n",
        "import torch.nn as nn\n",
        "import torch.nn.functional as F\n",
        "from torch.optim.lr_scheduler import StepLR\n",
        "\n",
        "!pip install torchsummary\n",
        "from torchsummary import summary\n",
        "import torch.optim as optim"
      ],
      "execution_count": 2,
      "outputs": [
        {
          "output_type": "stream",
          "text": [
            "Requirement already satisfied: torchsummary in /usr/local/lib/python3.6/dist-packages (1.5.1)\n"
          ],
          "name": "stdout"
        }
      ]
    },
    {
      "cell_type": "markdown",
      "metadata": {
        "id": "MqkNmpbhHKIY",
        "colab_type": "text"
      },
      "source": [
        "## Import custom packages"
      ]
    },
    {
      "cell_type": "code",
      "metadata": {
        "id": "00JGcgrfGyd3",
        "colab_type": "code",
        "colab": {
          "base_uri": "https://localhost:8080/",
          "height": 34
        },
        "outputId": "b0f67f9c-7dac-4b1c-e5bf-c31f66173811"
      },
      "source": [
        "from google.colab import drive\n",
        "drive.mount(\"/content/gdrive/\", force_remount=True)"
      ],
      "execution_count": 3,
      "outputs": [
        {
          "output_type": "stream",
          "text": [
            "Mounted at /content/gdrive/\n"
          ],
          "name": "stdout"
        }
      ]
    },
    {
      "cell_type": "code",
      "metadata": {
        "id": "ZzF_S6-hHSu8",
        "colab_type": "code",
        "colab": {}
      },
      "source": [
        "import sys\n",
        "sys.path.append('/content/gdrive/My Drive/Colab Notebooks/Session8')"
      ],
      "execution_count": 0,
      "outputs": []
    },
    {
      "cell_type": "code",
      "metadata": {
        "id": "LPN3-JitIKm-",
        "colab_type": "code",
        "colab": {}
      },
      "source": [
        "from srini_dataloader import cifar10_loader\n",
        "from srini_resnet import *\n",
        "from srini_train import train_test_model\n",
        "from srini_test import accuracy_by_class\n"
      ],
      "execution_count": 0,
      "outputs": []
    },
    {
      "cell_type": "markdown",
      "metadata": {
        "id": "Wf1ryKRzK1Wp",
        "colab_type": "text"
      },
      "source": [
        "## Define Model"
      ]
    },
    {
      "cell_type": "code",
      "metadata": {
        "id": "uW352IX9I03z",
        "colab_type": "code",
        "colab": {
          "base_uri": "https://localhost:8080/",
          "height": 1000
        },
        "outputId": "1bbde49e-7e71-438d-87c5-ed75acd3b3bf"
      },
      "source": [
        "use_cuda = torch.cuda.is_available()\n",
        "device = torch.device(\"cuda\" if use_cuda else \"cpu\")\n",
        "model = ResNet18().to(device)\n",
        "summary(model, input_size=(3, 32, 32))"
      ],
      "execution_count": 6,
      "outputs": [
        {
          "output_type": "stream",
          "text": [
            "----------------------------------------------------------------\n",
            "        Layer (type)               Output Shape         Param #\n",
            "================================================================\n",
            "            Conv2d-1           [-1, 64, 32, 32]           1,728\n",
            "       BatchNorm2d-2           [-1, 64, 32, 32]             128\n",
            "            Conv2d-3           [-1, 64, 32, 32]          36,864\n",
            "       BatchNorm2d-4           [-1, 64, 32, 32]             128\n",
            "            Conv2d-5           [-1, 64, 32, 32]          36,864\n",
            "       BatchNorm2d-6           [-1, 64, 32, 32]             128\n",
            "        BasicBlock-7           [-1, 64, 32, 32]               0\n",
            "            Conv2d-8           [-1, 64, 32, 32]          36,864\n",
            "       BatchNorm2d-9           [-1, 64, 32, 32]             128\n",
            "           Conv2d-10           [-1, 64, 32, 32]          36,864\n",
            "      BatchNorm2d-11           [-1, 64, 32, 32]             128\n",
            "       BasicBlock-12           [-1, 64, 32, 32]               0\n",
            "           Conv2d-13          [-1, 128, 16, 16]          73,728\n",
            "      BatchNorm2d-14          [-1, 128, 16, 16]             256\n",
            "           Conv2d-15          [-1, 128, 16, 16]         147,456\n",
            "      BatchNorm2d-16          [-1, 128, 16, 16]             256\n",
            "           Conv2d-17          [-1, 128, 16, 16]           8,192\n",
            "      BatchNorm2d-18          [-1, 128, 16, 16]             256\n",
            "       BasicBlock-19          [-1, 128, 16, 16]               0\n",
            "           Conv2d-20          [-1, 128, 16, 16]         147,456\n",
            "      BatchNorm2d-21          [-1, 128, 16, 16]             256\n",
            "           Conv2d-22          [-1, 128, 16, 16]         147,456\n",
            "      BatchNorm2d-23          [-1, 128, 16, 16]             256\n",
            "       BasicBlock-24          [-1, 128, 16, 16]               0\n",
            "           Conv2d-25            [-1, 256, 8, 8]         294,912\n",
            "      BatchNorm2d-26            [-1, 256, 8, 8]             512\n",
            "           Conv2d-27            [-1, 256, 8, 8]         589,824\n",
            "      BatchNorm2d-28            [-1, 256, 8, 8]             512\n",
            "           Conv2d-29            [-1, 256, 8, 8]          32,768\n",
            "      BatchNorm2d-30            [-1, 256, 8, 8]             512\n",
            "       BasicBlock-31            [-1, 256, 8, 8]               0\n",
            "           Conv2d-32            [-1, 256, 8, 8]         589,824\n",
            "      BatchNorm2d-33            [-1, 256, 8, 8]             512\n",
            "           Conv2d-34            [-1, 256, 8, 8]         589,824\n",
            "      BatchNorm2d-35            [-1, 256, 8, 8]             512\n",
            "       BasicBlock-36            [-1, 256, 8, 8]               0\n",
            "           Conv2d-37            [-1, 512, 4, 4]       1,179,648\n",
            "      BatchNorm2d-38            [-1, 512, 4, 4]           1,024\n",
            "           Conv2d-39            [-1, 512, 4, 4]       2,359,296\n",
            "      BatchNorm2d-40            [-1, 512, 4, 4]           1,024\n",
            "           Conv2d-41            [-1, 512, 4, 4]         131,072\n",
            "      BatchNorm2d-42            [-1, 512, 4, 4]           1,024\n",
            "       BasicBlock-43            [-1, 512, 4, 4]               0\n",
            "           Conv2d-44            [-1, 512, 4, 4]       2,359,296\n",
            "      BatchNorm2d-45            [-1, 512, 4, 4]           1,024\n",
            "           Conv2d-46            [-1, 512, 4, 4]       2,359,296\n",
            "      BatchNorm2d-47            [-1, 512, 4, 4]           1,024\n",
            "       BasicBlock-48            [-1, 512, 4, 4]               0\n",
            "           Linear-49                   [-1, 10]           5,130\n",
            "================================================================\n",
            "Total params: 11,173,962\n",
            "Trainable params: 11,173,962\n",
            "Non-trainable params: 0\n",
            "----------------------------------------------------------------\n",
            "Input size (MB): 0.01\n",
            "Forward/backward pass size (MB): 11.25\n",
            "Params size (MB): 42.63\n",
            "Estimated Total Size (MB): 53.89\n",
            "----------------------------------------------------------------\n"
          ],
          "name": "stdout"
        }
      ]
    },
    {
      "cell_type": "markdown",
      "metadata": {
        "id": "1OO4UhlSLj_K",
        "colab_type": "text"
      },
      "source": [
        "## Load Data and define Optimizer"
      ]
    },
    {
      "cell_type": "code",
      "metadata": {
        "id": "kUalfWwZLPQw",
        "colab_type": "code",
        "colab": {
          "base_uri": "https://localhost:8080/",
          "height": 51
        },
        "outputId": "016ea270-da17-4c06-a3fd-4a02e9c8e8e1"
      },
      "source": [
        "trainloader, testloader = cifar10_loader()"
      ],
      "execution_count": 7,
      "outputs": [
        {
          "output_type": "stream",
          "text": [
            "Files already downloaded and verified\n",
            "Files already downloaded and verified\n"
          ],
          "name": "stdout"
        }
      ]
    },
    {
      "cell_type": "code",
      "metadata": {
        "id": "5Q4QcIE0LtQA",
        "colab_type": "code",
        "colab": {}
      },
      "source": [
        "criterion = nn.CrossEntropyLoss()\n",
        "optimizer = optim.SGD(model.parameters(), lr=0.005, momentum=0.9)\n",
        "scheduler = StepLR(optimizer,step_size=3,gamma=0.2)"
      ],
      "execution_count": 0,
      "outputs": []
    },
    {
      "cell_type": "code",
      "metadata": {
        "id": "LQWdiUlMMBrV",
        "colab_type": "code",
        "colab": {
          "base_uri": "https://localhost:8080/",
          "height": 1000
        },
        "outputId": "72fb450c-2f5d-4541-8a10-9f1e877e2140"
      },
      "source": [
        "train_accuracy_list, test_accuracy_list = train_test_model(model=model,device=device,trainloader=trainloader,testloader=testloader,optimizer=optimizer,criterion=criterion,epochs=20,model_name=\"cifar10_resnet\")"
      ],
      "execution_count": 9,
      "outputs": [
        {
          "output_type": "stream",
          "text": [
            "TRAINING STARTS\n",
            "********** EPOCH NUMBER IS  0  *************\n",
            "Training Accuracy: 53 %\n",
            "Test Accuracy: 65 %\n",
            "********** EPOCH NUMBER IS  1  *************\n",
            "Training Accuracy: 72 %\n",
            "Test Accuracy: 75 %\n",
            "********** EPOCH NUMBER IS  2  *************\n",
            "Training Accuracy: 81 %\n",
            "Test Accuracy: 77 %\n",
            "********** EPOCH NUMBER IS  3  *************\n",
            "Training Accuracy: 87 %\n",
            "Test Accuracy: 77 %\n",
            "********** EPOCH NUMBER IS  4  *************\n",
            "Training Accuracy: 92 %\n",
            "Test Accuracy: 79 %\n",
            "********** EPOCH NUMBER IS  5  *************\n",
            "Training Accuracy: 95 %\n",
            "Test Accuracy: 79 %\n",
            "********** EPOCH NUMBER IS  6  *************\n",
            "Training Accuracy: 97 %\n",
            "Test Accuracy: 79 %\n",
            "********** EPOCH NUMBER IS  7  *************\n",
            "Training Accuracy: 98 %\n",
            "Test Accuracy: 79 %\n",
            "********** EPOCH NUMBER IS  8  *************\n",
            "Training Accuracy: 98 %\n",
            "Test Accuracy: 79 %\n",
            "********** EPOCH NUMBER IS  9  *************\n",
            "Training Accuracy: 99 %\n",
            "Test Accuracy: 81 %\n",
            "********** EPOCH NUMBER IS  10  *************\n",
            "Training Accuracy: 99 %\n",
            "Test Accuracy: 81 %\n",
            "********** EPOCH NUMBER IS  11  *************\n",
            "Training Accuracy: 99 %\n",
            "Test Accuracy: 82 %\n",
            "********** EPOCH NUMBER IS  12  *************\n",
            "Training Accuracy: 99 %\n",
            "Test Accuracy: 82 %\n",
            "********** EPOCH NUMBER IS  13  *************\n",
            "Training Accuracy: 100 %\n",
            "Test Accuracy: 82 %\n",
            "********** EPOCH NUMBER IS  14  *************\n",
            "Training Accuracy: 100 %\n",
            "Test Accuracy: 82 %\n",
            "********** EPOCH NUMBER IS  15  *************\n",
            "Training Accuracy: 100 %\n",
            "Test Accuracy: 82 %\n",
            "********** EPOCH NUMBER IS  16  *************\n",
            "Training Accuracy: 100 %\n",
            "Test Accuracy: 82 %\n",
            "********** EPOCH NUMBER IS  17  *************\n",
            "Training Accuracy: 100 %\n",
            "Test Accuracy: 82 %\n",
            "********** EPOCH NUMBER IS  18  *************\n",
            "Training Accuracy: 100 %\n",
            "Test Accuracy: 82 %\n",
            "********** EPOCH NUMBER IS  19  *************\n",
            "Training Accuracy: 100 %\n",
            "Test Accuracy: 83 %\n",
            "Finished Training\n"
          ],
          "name": "stdout"
        }
      ]
    },
    {
      "cell_type": "code",
      "metadata": {
        "id": "T6mzMrgtaKu4",
        "colab_type": "code",
        "colab": {}
      },
      "source": [
        ""
      ],
      "execution_count": 0,
      "outputs": []
    }
  ]
}