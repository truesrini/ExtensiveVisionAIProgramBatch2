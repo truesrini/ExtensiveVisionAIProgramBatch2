{
  "nbformat": 4,
  "nbformat_minor": 0,
  "metadata": {
    "colab": {
      "name": "EVA4B2_QuizDNN_V1.ipynb",
      "provenance": [],
      "collapsed_sections": [],
      "include_colab_link": true
    },
    "kernelspec": {
      "name": "python3",
      "display_name": "Python 3"
    },
    "accelerator": "GPU"
  },
  "cells": [
    {
      "cell_type": "markdown",
      "metadata": {
        "id": "view-in-github",
        "colab_type": "text"
      },
      "source": [
        "<a href=\"https://colab.research.google.com/github/truesrini/ExtensiveVisionAIProgramBatch2/blob/master/Session9%20Assignment/EVA4B2_QuizDNN_V1.ipynb\" target=\"_parent\"><img src=\"https://colab.research.google.com/assets/colab-badge.svg\" alt=\"Open In Colab\"/></a>"
      ]
    },
    {
      "cell_type": "markdown",
      "metadata": {
        "id": "1Wm1PFYPGpez",
        "colab_type": "text"
      },
      "source": [
        "#RESNET with CIFAR Session 8 Assignment - Modular Code"
      ]
    },
    {
      "cell_type": "markdown",
      "metadata": {
        "id": "8VW-nqNHHClD",
        "colab_type": "text"
      },
      "source": [
        "## Import relevant packages"
      ]
    },
    {
      "cell_type": "code",
      "metadata": {
        "id": "b4f1x2FgGbZ4",
        "colab_type": "code",
        "colab": {}
      },
      "source": [
        "from __future__ import print_function\n",
        "%matplotlib inline"
      ],
      "execution_count": 0,
      "outputs": []
    },
    {
      "cell_type": "code",
      "metadata": {
        "id": "7iItQwiaGmQa",
        "colab_type": "code",
        "outputId": "b197176a-874e-4392-dcb4-9970ba188a6a",
        "colab": {
          "base_uri": "https://localhost:8080/",
          "height": 34
        }
      },
      "source": [
        "import torch\n",
        "import torchvision\n",
        "import torchvision.transforms as transforms\n",
        "import torch.nn as nn\n",
        "import torch.nn.functional as F\n",
        "from torch.optim.lr_scheduler import StepLR\n",
        "\n",
        "!pip install torchsummary\n",
        "from torchsummary import summary\n",
        "import torch.optim as optim"
      ],
      "execution_count": 2,
      "outputs": [
        {
          "output_type": "stream",
          "text": [
            "Requirement already satisfied: torchsummary in /usr/local/lib/python3.6/dist-packages (1.5.1)\n"
          ],
          "name": "stdout"
        }
      ]
    },
    {
      "cell_type": "markdown",
      "metadata": {
        "id": "MqkNmpbhHKIY",
        "colab_type": "text"
      },
      "source": [
        "## Import custom packages"
      ]
    },
    {
      "cell_type": "code",
      "metadata": {
        "id": "00JGcgrfGyd3",
        "colab_type": "code",
        "outputId": "f3ddf1b3-72db-4158-f641-2cc7a366e79e",
        "colab": {
          "base_uri": "https://localhost:8080/",
          "height": 34
        }
      },
      "source": [
        "from google.colab import drive\n",
        "drive.mount(\"/content/gdrive/\", force_remount=True)"
      ],
      "execution_count": 3,
      "outputs": [
        {
          "output_type": "stream",
          "text": [
            "Mounted at /content/gdrive/\n"
          ],
          "name": "stdout"
        }
      ]
    },
    {
      "cell_type": "code",
      "metadata": {
        "id": "ZzF_S6-hHSu8",
        "colab_type": "code",
        "colab": {}
      },
      "source": [
        "import sys\n",
        "sys.path.append('/content/gdrive/My Drive/Colab Notebooks/Session9')"
      ],
      "execution_count": 0,
      "outputs": []
    },
    {
      "cell_type": "code",
      "metadata": {
        "id": "LPN3-JitIKm-",
        "colab_type": "code",
        "colab": {
          "base_uri": "https://localhost:8080/",
          "height": 34
        },
        "outputId": "875bf6f6-8c79-4dba-d01a-4204eb755b4c"
      },
      "source": [
        "from srini_dataloader import cifar10_loader\n",
        "from srini_QuizDNN import *\n",
        "from srini_train import train_test_model\n",
        "from srini_test import accuracy_by_class\n"
      ],
      "execution_count": 5,
      "outputs": [
        {
          "output_type": "stream",
          "text": [
            "Current Date/Time:  2020-05-30 23:30:47.000082\n"
          ],
          "name": "stdout"
        }
      ]
    },
    {
      "cell_type": "markdown",
      "metadata": {
        "id": "Wf1ryKRzK1Wp",
        "colab_type": "text"
      },
      "source": [
        "## Define Model"
      ]
    },
    {
      "cell_type": "code",
      "metadata": {
        "id": "uW352IX9I03z",
        "colab_type": "code",
        "outputId": "0bbbf822-a9a7-4746-d76c-bfda43eadba7",
        "colab": {
          "base_uri": "https://localhost:8080/",
          "height": 642
        }
      },
      "source": [
        "use_cuda = torch.cuda.is_available()\n",
        "device = torch.device(\"cuda\" if use_cuda else \"cpu\")\n",
        "model = Net().to(device)\n",
        "summary(model, input_size=(3, 32, 32))"
      ],
      "execution_count": 6,
      "outputs": [
        {
          "output_type": "stream",
          "text": [
            "----------------------------------------------------------------\n",
            "        Layer (type)               Output Shape         Param #\n",
            "================================================================\n",
            "            Conv2d-1           [-1, 64, 34, 34]             256\n",
            "            Conv2d-2           [-1, 64, 34, 34]          36,928\n",
            "       BatchNorm2d-3           [-1, 64, 34, 34]             128\n",
            "            Conv2d-4           [-1, 64, 34, 34]          36,928\n",
            "       BatchNorm2d-5           [-1, 64, 34, 34]             128\n",
            "         MaxPool2d-6           [-1, 64, 17, 17]               0\n",
            "            Conv2d-7           [-1, 64, 17, 17]          36,928\n",
            "       BatchNorm2d-8           [-1, 64, 17, 17]             128\n",
            "            Conv2d-9           [-1, 64, 17, 17]          36,928\n",
            "      BatchNorm2d-10           [-1, 64, 17, 17]             128\n",
            "           Conv2d-11           [-1, 64, 17, 17]          36,928\n",
            "      BatchNorm2d-12           [-1, 64, 17, 17]             128\n",
            "        MaxPool2d-13             [-1, 64, 8, 8]               0\n",
            "           Conv2d-14             [-1, 64, 8, 8]          36,928\n",
            "      BatchNorm2d-15             [-1, 64, 8, 8]             128\n",
            "           Conv2d-16             [-1, 64, 8, 8]          36,928\n",
            "      BatchNorm2d-17             [-1, 64, 8, 8]             128\n",
            "           Conv2d-18             [-1, 64, 8, 8]          36,928\n",
            "      BatchNorm2d-19             [-1, 64, 8, 8]             128\n",
            "        AvgPool2d-20             [-1, 64, 1, 1]               0\n",
            "           Linear-21                   [-1, 10]             650\n",
            "================================================================\n",
            "Total params: 297,354\n",
            "Trainable params: 297,354\n",
            "Non-trainable params: 0\n",
            "----------------------------------------------------------------\n",
            "Input size (MB): 0.01\n",
            "Forward/backward pass size (MB): 4.03\n",
            "Params size (MB): 1.13\n",
            "Estimated Total Size (MB): 5.18\n",
            "----------------------------------------------------------------\n"
          ],
          "name": "stdout"
        },
        {
          "output_type": "stream",
          "text": [
            "/content/gdrive/My Drive/Colab Notebooks/Session9/srini_QuizDNN.py:73: UserWarning: Implicit dimension choice for log_softmax has been deprecated. Change the call to include dim=X as an argument.\n",
            "  return F.log_softmax(x)\n"
          ],
          "name": "stderr"
        }
      ]
    },
    {
      "cell_type": "markdown",
      "metadata": {
        "id": "1OO4UhlSLj_K",
        "colab_type": "text"
      },
      "source": [
        "## Load Data and define Optimizer"
      ]
    },
    {
      "cell_type": "code",
      "metadata": {
        "id": "kUalfWwZLPQw",
        "colab_type": "code",
        "outputId": "49b724cd-7296-4cb2-893a-72acc2977fd4",
        "colab": {
          "base_uri": "https://localhost:8080/",
          "height": 50
        }
      },
      "source": [
        "trainloader, testloader = cifar10_loader()"
      ],
      "execution_count": 7,
      "outputs": [
        {
          "output_type": "stream",
          "text": [
            "Files already downloaded and verified\n",
            "Files already downloaded and verified\n"
          ],
          "name": "stdout"
        }
      ]
    },
    {
      "cell_type": "code",
      "metadata": {
        "id": "5Q4QcIE0LtQA",
        "colab_type": "code",
        "colab": {}
      },
      "source": [
        "criterion = nn.CrossEntropyLoss()\n",
        "optimizer = optim.SGD(model.parameters(), lr=0.005, momentum=0.9)\n",
        "scheduler = StepLR(optimizer,step_size=3,gamma=0.2)"
      ],
      "execution_count": 0,
      "outputs": []
    },
    {
      "cell_type": "code",
      "metadata": {
        "id": "LQWdiUlMMBrV",
        "colab_type": "code",
        "outputId": "f2710f7b-5d65-4fe6-8a10-66d1b6e5b6a8",
        "colab": {
          "base_uri": "https://localhost:8080/",
          "height": 1000
        }
      },
      "source": [
        "print(\"Current Date/Time: \", datetime.now())\n",
        "train_accuracy_list, test_accuracy_list = train_test_model(model=model,device=device,trainloader=trainloader,testloader=testloader,optimizer=optimizer,criterion=criterion,epochs=20,model_name=\"cifar10_resnet\")"
      ],
      "execution_count": 9,
      "outputs": [
        {
          "output_type": "stream",
          "text": [
            "Current Date/Time:  2020-05-30 23:30:52.399464\n",
            "TRAINING STARTS\n"
          ],
          "name": "stdout"
        },
        {
          "output_type": "stream",
          "text": [
            "/content/gdrive/My Drive/Colab Notebooks/Session9/srini_QuizDNN.py:73: UserWarning: Implicit dimension choice for log_softmax has been deprecated. Change the call to include dim=X as an argument.\n",
            "  return F.log_softmax(x)\n"
          ],
          "name": "stderr"
        },
        {
          "output_type": "stream",
          "text": [
            "********** EPOCH NUMBER IS  0  *************\n",
            "Training Accuracy: 47 %\n",
            "Test Accuracy: 56 %\n",
            "********** EPOCH NUMBER IS  1  *************\n",
            "Training Accuracy: 63 %\n",
            "Test Accuracy: 66 %\n",
            "********** EPOCH NUMBER IS  2  *************\n",
            "Training Accuracy: 70 %\n",
            "Test Accuracy: 71 %\n",
            "********** EPOCH NUMBER IS  3  *************\n",
            "Training Accuracy: 75 %\n",
            "Test Accuracy: 75 %\n",
            "********** EPOCH NUMBER IS  4  *************\n",
            "Training Accuracy: 79 %\n",
            "Test Accuracy: 77 %\n",
            "********** EPOCH NUMBER IS  5  *************\n",
            "Training Accuracy: 82 %\n",
            "Test Accuracy: 78 %\n",
            "********** EPOCH NUMBER IS  6  *************\n",
            "Training Accuracy: 84 %\n",
            "Test Accuracy: 79 %\n",
            "********** EPOCH NUMBER IS  7  *************\n",
            "Training Accuracy: 86 %\n",
            "Test Accuracy: 80 %\n",
            "********** EPOCH NUMBER IS  8  *************\n",
            "Training Accuracy: 87 %\n",
            "Test Accuracy: 80 %\n",
            "********** EPOCH NUMBER IS  9  *************\n",
            "Training Accuracy: 89 %\n",
            "Test Accuracy: 81 %\n",
            "********** EPOCH NUMBER IS  10  *************\n",
            "Training Accuracy: 90 %\n",
            "Test Accuracy: 80 %\n",
            "********** EPOCH NUMBER IS  11  *************\n",
            "Training Accuracy: 92 %\n",
            "Test Accuracy: 81 %\n",
            "********** EPOCH NUMBER IS  12  *************\n",
            "Training Accuracy: 93 %\n",
            "Test Accuracy: 81 %\n",
            "********** EPOCH NUMBER IS  13  *************\n",
            "Training Accuracy: 94 %\n",
            "Test Accuracy: 81 %\n",
            "********** EPOCH NUMBER IS  14  *************\n",
            "Training Accuracy: 95 %\n",
            "Test Accuracy: 81 %\n",
            "********** EPOCH NUMBER IS  15  *************\n",
            "Training Accuracy: 96 %\n",
            "Test Accuracy: 81 %\n",
            "********** EPOCH NUMBER IS  16  *************\n",
            "Training Accuracy: 97 %\n",
            "Test Accuracy: 80 %\n",
            "********** EPOCH NUMBER IS  17  *************\n",
            "Training Accuracy: 97 %\n",
            "Test Accuracy: 80 %\n",
            "********** EPOCH NUMBER IS  18  *************\n",
            "Training Accuracy: 98 %\n",
            "Test Accuracy: 81 %\n",
            "********** EPOCH NUMBER IS  19  *************\n",
            "Training Accuracy: 98 %\n",
            "Test Accuracy: 80 %\n",
            "Finished Training\n"
          ],
          "name": "stdout"
        }
      ]
    },
    {
      "cell_type": "code",
      "metadata": {
        "id": "T6mzMrgtaKu4",
        "colab_type": "code",
        "colab": {}
      },
      "source": [
        ""
      ],
      "execution_count": 0,
      "outputs": []
    }
  ]
}