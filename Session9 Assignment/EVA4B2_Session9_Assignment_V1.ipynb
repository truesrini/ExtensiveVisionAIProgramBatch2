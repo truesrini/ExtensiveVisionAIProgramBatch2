{
  "nbformat": 4,
  "nbformat_minor": 0,
  "metadata": {
    "colab": {
<<<<<<< HEAD
      "name": "EVA4B2 Session8 Assignment V1.ipynb",
      "provenance": [],
      "collapsed_sections": [],
      "authorship_tag": "ABX9TyPNIEJBnZpYzgZHy0ntJZF0",
=======
      "name": "EVA4B2_Session9_Assignment_V1.ipynb",
      "provenance": [],
      "collapsed_sections": [],
>>>>>>> 5d248e4e6ce69c748e354d2362a1cfeabcc61bfb
      "include_colab_link": true
    },
    "kernelspec": {
      "name": "python3",
      "display_name": "Python 3"
    },
<<<<<<< HEAD
    "accelerator": "GPU"
=======
    "accelerator": "GPU",
    "widgets": {
      "application/vnd.jupyter.widget-state+json": {
        "0ec4f880e3cd4b7b8ffec551d9c3c355": {
          "model_module": "@jupyter-widgets/controls",
          "model_name": "HBoxModel",
          "state": {
            "_view_name": "HBoxView",
            "_dom_classes": [],
            "_model_name": "HBoxModel",
            "_view_module": "@jupyter-widgets/controls",
            "_model_module_version": "1.5.0",
            "_view_count": null,
            "_view_module_version": "1.5.0",
            "box_style": "",
            "layout": "IPY_MODEL_c56c3d997cff46c2b9c0e851b3a009ff",
            "_model_module": "@jupyter-widgets/controls",
            "children": [
              "IPY_MODEL_a4b099b0eaeb44e1a7d64fd9daa0476a",
              "IPY_MODEL_de8b2c9b93054991947d7de5e5389a4a"
            ]
          }
        },
        "c56c3d997cff46c2b9c0e851b3a009ff": {
          "model_module": "@jupyter-widgets/base",
          "model_name": "LayoutModel",
          "state": {
            "_view_name": "LayoutView",
            "grid_template_rows": null,
            "right": null,
            "justify_content": null,
            "_view_module": "@jupyter-widgets/base",
            "overflow": null,
            "_model_module_version": "1.2.0",
            "_view_count": null,
            "flex_flow": null,
            "width": null,
            "min_width": null,
            "border": null,
            "align_items": null,
            "bottom": null,
            "_model_module": "@jupyter-widgets/base",
            "top": null,
            "grid_column": null,
            "overflow_y": null,
            "overflow_x": null,
            "grid_auto_flow": null,
            "grid_area": null,
            "grid_template_columns": null,
            "flex": null,
            "_model_name": "LayoutModel",
            "justify_items": null,
            "grid_row": null,
            "max_height": null,
            "align_content": null,
            "visibility": null,
            "align_self": null,
            "height": null,
            "min_height": null,
            "padding": null,
            "grid_auto_rows": null,
            "grid_gap": null,
            "max_width": null,
            "order": null,
            "_view_module_version": "1.2.0",
            "grid_template_areas": null,
            "object_position": null,
            "object_fit": null,
            "grid_auto_columns": null,
            "margin": null,
            "display": null,
            "left": null
          }
        },
        "a4b099b0eaeb44e1a7d64fd9daa0476a": {
          "model_module": "@jupyter-widgets/controls",
          "model_name": "FloatProgressModel",
          "state": {
            "_view_name": "ProgressView",
            "style": "IPY_MODEL_4e13e7cb893d48b0937810af1204674a",
            "_dom_classes": [],
            "description": "",
            "_model_name": "FloatProgressModel",
            "bar_style": "info",
            "max": 1,
            "_view_module": "@jupyter-widgets/controls",
            "_model_module_version": "1.5.0",
            "value": 1,
            "_view_count": null,
            "_view_module_version": "1.5.0",
            "orientation": "horizontal",
            "min": 0,
            "description_tooltip": null,
            "_model_module": "@jupyter-widgets/controls",
            "layout": "IPY_MODEL_bd57ee97f22c4b85a11126315592781a"
          }
        },
        "de8b2c9b93054991947d7de5e5389a4a": {
          "model_module": "@jupyter-widgets/controls",
          "model_name": "HTMLModel",
          "state": {
            "_view_name": "HTMLView",
            "style": "IPY_MODEL_9613c7e4df124a6d867b564c3d0cbe4d",
            "_dom_classes": [],
            "description": "",
            "_model_name": "HTMLModel",
            "placeholder": "​",
            "_view_module": "@jupyter-widgets/controls",
            "_model_module_version": "1.5.0",
            "value": " 170500096/? [00:30&lt;00:00, 15347551.96it/s]",
            "_view_count": null,
            "_view_module_version": "1.5.0",
            "description_tooltip": null,
            "_model_module": "@jupyter-widgets/controls",
            "layout": "IPY_MODEL_6942f584d458423fb6dbebbd1e67a8b0"
          }
        },
        "4e13e7cb893d48b0937810af1204674a": {
          "model_module": "@jupyter-widgets/controls",
          "model_name": "ProgressStyleModel",
          "state": {
            "_view_name": "StyleView",
            "_model_name": "ProgressStyleModel",
            "description_width": "initial",
            "_view_module": "@jupyter-widgets/base",
            "_model_module_version": "1.5.0",
            "_view_count": null,
            "_view_module_version": "1.2.0",
            "bar_color": null,
            "_model_module": "@jupyter-widgets/controls"
          }
        },
        "bd57ee97f22c4b85a11126315592781a": {
          "model_module": "@jupyter-widgets/base",
          "model_name": "LayoutModel",
          "state": {
            "_view_name": "LayoutView",
            "grid_template_rows": null,
            "right": null,
            "justify_content": null,
            "_view_module": "@jupyter-widgets/base",
            "overflow": null,
            "_model_module_version": "1.2.0",
            "_view_count": null,
            "flex_flow": null,
            "width": null,
            "min_width": null,
            "border": null,
            "align_items": null,
            "bottom": null,
            "_model_module": "@jupyter-widgets/base",
            "top": null,
            "grid_column": null,
            "overflow_y": null,
            "overflow_x": null,
            "grid_auto_flow": null,
            "grid_area": null,
            "grid_template_columns": null,
            "flex": null,
            "_model_name": "LayoutModel",
            "justify_items": null,
            "grid_row": null,
            "max_height": null,
            "align_content": null,
            "visibility": null,
            "align_self": null,
            "height": null,
            "min_height": null,
            "padding": null,
            "grid_auto_rows": null,
            "grid_gap": null,
            "max_width": null,
            "order": null,
            "_view_module_version": "1.2.0",
            "grid_template_areas": null,
            "object_position": null,
            "object_fit": null,
            "grid_auto_columns": null,
            "margin": null,
            "display": null,
            "left": null
          }
        },
        "9613c7e4df124a6d867b564c3d0cbe4d": {
          "model_module": "@jupyter-widgets/controls",
          "model_name": "DescriptionStyleModel",
          "state": {
            "_view_name": "StyleView",
            "_model_name": "DescriptionStyleModel",
            "description_width": "",
            "_view_module": "@jupyter-widgets/base",
            "_model_module_version": "1.5.0",
            "_view_count": null,
            "_view_module_version": "1.2.0",
            "_model_module": "@jupyter-widgets/controls"
          }
        },
        "6942f584d458423fb6dbebbd1e67a8b0": {
          "model_module": "@jupyter-widgets/base",
          "model_name": "LayoutModel",
          "state": {
            "_view_name": "LayoutView",
            "grid_template_rows": null,
            "right": null,
            "justify_content": null,
            "_view_module": "@jupyter-widgets/base",
            "overflow": null,
            "_model_module_version": "1.2.0",
            "_view_count": null,
            "flex_flow": null,
            "width": null,
            "min_width": null,
            "border": null,
            "align_items": null,
            "bottom": null,
            "_model_module": "@jupyter-widgets/base",
            "top": null,
            "grid_column": null,
            "overflow_y": null,
            "overflow_x": null,
            "grid_auto_flow": null,
            "grid_area": null,
            "grid_template_columns": null,
            "flex": null,
            "_model_name": "LayoutModel",
            "justify_items": null,
            "grid_row": null,
            "max_height": null,
            "align_content": null,
            "visibility": null,
            "align_self": null,
            "height": null,
            "min_height": null,
            "padding": null,
            "grid_auto_rows": null,
            "grid_gap": null,
            "max_width": null,
            "order": null,
            "_view_module_version": "1.2.0",
            "grid_template_areas": null,
            "object_position": null,
            "object_fit": null,
            "grid_auto_columns": null,
            "margin": null,
            "display": null,
            "left": null
          }
        }
      }
    }
>>>>>>> 5d248e4e6ce69c748e354d2362a1cfeabcc61bfb
  },
  "cells": [
    {
      "cell_type": "markdown",
      "metadata": {
        "id": "view-in-github",
        "colab_type": "text"
      },
      "source": [
<<<<<<< HEAD
        "<a href=\"https://colab.research.google.com/github/truesrini/ExtensiveVisionAIProgramBatch2/blob/master/Session8%20Assignment/EVA4B2_Session8_Assignment_V1.ipynb\" target=\"_parent\"><img src=\"https://colab.research.google.com/assets/colab-badge.svg\" alt=\"Open In Colab\"/></a>"
=======
        "<a href=\"https://colab.research.google.com/github/truesrini/ExtensiveVisionAIProgramBatch2/blob/master/Session9%20Assignment/EVA4B2_Session9_Assignment_V1.ipynb\" target=\"_parent\"><img src=\"https://colab.research.google.com/assets/colab-badge.svg\" alt=\"Open In Colab\"/></a>"
>>>>>>> 5d248e4e6ce69c748e354d2362a1cfeabcc61bfb
      ]
    },
    {
      "cell_type": "markdown",
      "metadata": {
        "id": "1Wm1PFYPGpez",
        "colab_type": "text"
      },
      "source": [
<<<<<<< HEAD
        "#RESNET with CIFAR Session 8 Assignment - Modular Code"
=======
        "#RESNET with CIFAR Session 9 Assignment - Albumentations & GradCam Implementation"
>>>>>>> 5d248e4e6ce69c748e354d2362a1cfeabcc61bfb
      ]
    },
    {
      "cell_type": "markdown",
      "metadata": {
        "id": "8VW-nqNHHClD",
        "colab_type": "text"
      },
      "source": [
        "## Import relevant packages"
      ]
    },
    {
      "cell_type": "code",
      "metadata": {
        "id": "b4f1x2FgGbZ4",
        "colab_type": "code",
        "colab": {}
      },
      "source": [
        "from __future__ import print_function\n",
        "%matplotlib inline"
      ],
      "execution_count": 0,
      "outputs": []
    },
    {
      "cell_type": "code",
      "metadata": {
        "id": "7iItQwiaGmQa",
        "colab_type": "code",
<<<<<<< HEAD
        "colab": {
          "base_uri": "https://localhost:8080/",
          "height": 34
        },
        "outputId": "bc7ac0da-62d0-4ebc-e7a8-df1324dbaebc"
=======
        "outputId": "246b32aa-f3fe-47bc-e3e0-2e546d527d1b",
        "colab": {
          "base_uri": "https://localhost:8080/",
          "height": 34
        }
>>>>>>> 5d248e4e6ce69c748e354d2362a1cfeabcc61bfb
      },
      "source": [
        "import torch\n",
        "import torchvision\n",
        "import torchvision.transforms as transforms\n",
        "import torch.nn as nn\n",
        "import torch.nn.functional as F\n",
        "from torch.optim.lr_scheduler import StepLR\n",
        "\n",
<<<<<<< HEAD
=======
        "import pandas as pd\n",
        "import numpy as np\n",
        "\n",
>>>>>>> 5d248e4e6ce69c748e354d2362a1cfeabcc61bfb
        "!pip install torchsummary\n",
        "from torchsummary import summary\n",
        "import torch.optim as optim"
      ],
      "execution_count": 2,
      "outputs": [
        {
          "output_type": "stream",
          "text": [
            "Requirement already satisfied: torchsummary in /usr/local/lib/python3.6/dist-packages (1.5.1)\n"
          ],
          "name": "stdout"
        }
      ]
    },
    {
      "cell_type": "markdown",
      "metadata": {
        "id": "MqkNmpbhHKIY",
        "colab_type": "text"
      },
      "source": [
        "## Import custom packages"
      ]
    },
    {
      "cell_type": "code",
      "metadata": {
        "id": "00JGcgrfGyd3",
        "colab_type": "code",
<<<<<<< HEAD
        "colab": {
          "base_uri": "https://localhost:8080/",
          "height": 34
        },
        "outputId": "b0f67f9c-7dac-4b1c-e5bf-c31f66173811"
=======
        "outputId": "6798ea8d-baef-46e4-867a-383f21baa767",
        "colab": {
          "base_uri": "https://localhost:8080/",
          "height": 121
        }
>>>>>>> 5d248e4e6ce69c748e354d2362a1cfeabcc61bfb
      },
      "source": [
        "from google.colab import drive\n",
        "drive.mount(\"/content/gdrive/\", force_remount=True)"
      ],
      "execution_count": 3,
      "outputs": [
        {
          "output_type": "stream",
          "text": [
<<<<<<< HEAD
=======
            "Go to this URL in a browser: https://accounts.google.com/o/oauth2/auth?client_id=947318989803-6bn6qk8qdgf4n4g3pfee6491hc0brc4i.apps.googleusercontent.com&redirect_uri=urn%3aietf%3awg%3aoauth%3a2.0%3aoob&response_type=code&scope=email%20https%3a%2f%2fwww.googleapis.com%2fauth%2fdocs.test%20https%3a%2f%2fwww.googleapis.com%2fauth%2fdrive%20https%3a%2f%2fwww.googleapis.com%2fauth%2fdrive.photos.readonly%20https%3a%2f%2fwww.googleapis.com%2fauth%2fpeopleapi.readonly\n",
            "\n",
            "Enter your authorization code:\n",
            "··········\n",
>>>>>>> 5d248e4e6ce69c748e354d2362a1cfeabcc61bfb
            "Mounted at /content/gdrive/\n"
          ],
          "name": "stdout"
        }
      ]
    },
    {
      "cell_type": "code",
      "metadata": {
        "id": "ZzF_S6-hHSu8",
        "colab_type": "code",
        "colab": {}
      },
      "source": [
        "import sys\n",
<<<<<<< HEAD
        "sys.path.append('/content/gdrive/My Drive/Colab Notebooks/Session8')"
=======
        "sys.path.append('/content/gdrive/My Drive/Colab Notebooks/Session9')"
>>>>>>> 5d248e4e6ce69c748e354d2362a1cfeabcc61bfb
      ],
      "execution_count": 0,
      "outputs": []
    },
    {
      "cell_type": "code",
      "metadata": {
<<<<<<< HEAD
=======
        "id": "fRpV6Xy-nqju",
        "colab_type": "code",
        "colab": {
          "base_uri": "https://localhost:8080/",
          "height": 524
        },
        "outputId": "49f80a0d-de61-4d3d-8411-98c40f0e4840"
      },
      "source": [
        "!pip install albumentations"
      ],
      "execution_count": 5,
      "outputs": [
        {
          "output_type": "stream",
          "text": [
            "Requirement already satisfied: albumentations in /usr/local/lib/python3.6/dist-packages (0.1.12)\n",
            "Requirement already satisfied: opencv-python in /usr/local/lib/python3.6/dist-packages (from albumentations) (4.1.2.30)\n",
            "Requirement already satisfied: numpy>=1.11.1 in /usr/local/lib/python3.6/dist-packages (from albumentations) (1.18.4)\n",
            "Requirement already satisfied: scipy in /usr/local/lib/python3.6/dist-packages (from albumentations) (1.4.1)\n",
            "Collecting imgaug<0.2.7,>=0.2.5\n",
            "\u001b[?25l  Downloading https://files.pythonhosted.org/packages/ad/2e/748dbb7bb52ec8667098bae9b585f448569ae520031932687761165419a2/imgaug-0.2.6.tar.gz (631kB)\n",
            "\r\u001b[K     |▌                               | 10kB 25.3MB/s eta 0:00:01\r\u001b[K     |█                               | 20kB 1.7MB/s eta 0:00:01\r\u001b[K     |█▋                              | 30kB 2.2MB/s eta 0:00:01\r\u001b[K     |██                              | 40kB 2.5MB/s eta 0:00:01\r\u001b[K     |██▋                             | 51kB 2.0MB/s eta 0:00:01\r\u001b[K     |███▏                            | 61kB 2.3MB/s eta 0:00:01\r\u001b[K     |███▋                            | 71kB 2.5MB/s eta 0:00:01\r\u001b[K     |████▏                           | 81kB 2.7MB/s eta 0:00:01\r\u001b[K     |████▊                           | 92kB 2.9MB/s eta 0:00:01\r\u001b[K     |█████▏                          | 102kB 2.8MB/s eta 0:00:01\r\u001b[K     |█████▊                          | 112kB 2.8MB/s eta 0:00:01\r\u001b[K     |██████▎                         | 122kB 2.8MB/s eta 0:00:01\r\u001b[K     |██████▊                         | 133kB 2.8MB/s eta 0:00:01\r\u001b[K     |███████▎                        | 143kB 2.8MB/s eta 0:00:01\r\u001b[K     |███████▉                        | 153kB 2.8MB/s eta 0:00:01\r\u001b[K     |████████▎                       | 163kB 2.8MB/s eta 0:00:01\r\u001b[K     |████████▉                       | 174kB 2.8MB/s eta 0:00:01\r\u001b[K     |█████████▍                      | 184kB 2.8MB/s eta 0:00:01\r\u001b[K     |█████████▉                      | 194kB 2.8MB/s eta 0:00:01\r\u001b[K     |██████████▍                     | 204kB 2.8MB/s eta 0:00:01\r\u001b[K     |███████████                     | 215kB 2.8MB/s eta 0:00:01\r\u001b[K     |███████████▍                    | 225kB 2.8MB/s eta 0:00:01\r\u001b[K     |████████████                    | 235kB 2.8MB/s eta 0:00:01\r\u001b[K     |████████████▌                   | 245kB 2.8MB/s eta 0:00:01\r\u001b[K     |█████████████                   | 256kB 2.8MB/s eta 0:00:01\r\u001b[K     |█████████████▌                  | 266kB 2.8MB/s eta 0:00:01\r\u001b[K     |██████████████                  | 276kB 2.8MB/s eta 0:00:01\r\u001b[K     |██████████████▌                 | 286kB 2.8MB/s eta 0:00:01\r\u001b[K     |███████████████                 | 296kB 2.8MB/s eta 0:00:01\r\u001b[K     |███████████████▋                | 307kB 2.8MB/s eta 0:00:01\r\u001b[K     |████████████████                | 317kB 2.8MB/s eta 0:00:01\r\u001b[K     |████████████████▋               | 327kB 2.8MB/s eta 0:00:01\r\u001b[K     |█████████████████▏              | 337kB 2.8MB/s eta 0:00:01\r\u001b[K     |█████████████████▋              | 348kB 2.8MB/s eta 0:00:01\r\u001b[K     |██████████████████▏             | 358kB 2.8MB/s eta 0:00:01\r\u001b[K     |██████████████████▊             | 368kB 2.8MB/s eta 0:00:01\r\u001b[K     |███████████████████▏            | 378kB 2.8MB/s eta 0:00:01\r\u001b[K     |███████████████████▊            | 389kB 2.8MB/s eta 0:00:01\r\u001b[K     |████████████████████▎           | 399kB 2.8MB/s eta 0:00:01\r\u001b[K     |████████████████████▊           | 409kB 2.8MB/s eta 0:00:01\r\u001b[K     |█████████████████████▎          | 419kB 2.8MB/s eta 0:00:01\r\u001b[K     |█████████████████████▉          | 430kB 2.8MB/s eta 0:00:01\r\u001b[K     |██████████████████████▎         | 440kB 2.8MB/s eta 0:00:01\r\u001b[K     |██████████████████████▉         | 450kB 2.8MB/s eta 0:00:01\r\u001b[K     |███████████████████████▍        | 460kB 2.8MB/s eta 0:00:01\r\u001b[K     |███████████████████████▉        | 471kB 2.8MB/s eta 0:00:01\r\u001b[K     |████████████████████████▍       | 481kB 2.8MB/s eta 0:00:01\r\u001b[K     |█████████████████████████       | 491kB 2.8MB/s eta 0:00:01\r\u001b[K     |█████████████████████████▍      | 501kB 2.8MB/s eta 0:00:01\r\u001b[K     |██████████████████████████      | 512kB 2.8MB/s eta 0:00:01\r\u001b[K     |██████████████████████████▌     | 522kB 2.8MB/s eta 0:00:01\r\u001b[K     |███████████████████████████     | 532kB 2.8MB/s eta 0:00:01\r\u001b[K     |███████████████████████████▌    | 542kB 2.8MB/s eta 0:00:01\r\u001b[K     |████████████████████████████    | 552kB 2.8MB/s eta 0:00:01\r\u001b[K     |████████████████████████████▌   | 563kB 2.8MB/s eta 0:00:01\r\u001b[K     |█████████████████████████████   | 573kB 2.8MB/s eta 0:00:01\r\u001b[K     |█████████████████████████████▋  | 583kB 2.8MB/s eta 0:00:01\r\u001b[K     |██████████████████████████████  | 593kB 2.8MB/s eta 0:00:01\r\u001b[K     |██████████████████████████████▋ | 604kB 2.8MB/s eta 0:00:01\r\u001b[K     |███████████████████████████████▏| 614kB 2.8MB/s eta 0:00:01\r\u001b[K     |███████████████████████████████▋| 624kB 2.8MB/s eta 0:00:01\r\u001b[K     |████████████████████████████████| 634kB 2.8MB/s \n",
            "\u001b[?25hRequirement already satisfied: scikit-image>=0.11.0 in /usr/local/lib/python3.6/dist-packages (from imgaug<0.2.7,>=0.2.5->albumentations) (0.16.2)\n",
            "Requirement already satisfied: six in /usr/local/lib/python3.6/dist-packages (from imgaug<0.2.7,>=0.2.5->albumentations) (1.12.0)\n",
            "Requirement already satisfied: imageio>=2.3.0 in /usr/local/lib/python3.6/dist-packages (from scikit-image>=0.11.0->imgaug<0.2.7,>=0.2.5->albumentations) (2.4.1)\n",
            "Requirement already satisfied: PyWavelets>=0.4.0 in /usr/local/lib/python3.6/dist-packages (from scikit-image>=0.11.0->imgaug<0.2.7,>=0.2.5->albumentations) (1.1.1)\n",
            "Requirement already satisfied: pillow>=4.3.0 in /usr/local/lib/python3.6/dist-packages (from scikit-image>=0.11.0->imgaug<0.2.7,>=0.2.5->albumentations) (7.0.0)\n",
            "Requirement already satisfied: networkx>=2.0 in /usr/local/lib/python3.6/dist-packages (from scikit-image>=0.11.0->imgaug<0.2.7,>=0.2.5->albumentations) (2.4)\n",
            "Requirement already satisfied: matplotlib!=3.0.0,>=2.0.0 in /usr/local/lib/python3.6/dist-packages (from scikit-image>=0.11.0->imgaug<0.2.7,>=0.2.5->albumentations) (3.2.1)\n",
            "Requirement already satisfied: decorator>=4.3.0 in /usr/local/lib/python3.6/dist-packages (from networkx>=2.0->scikit-image>=0.11.0->imgaug<0.2.7,>=0.2.5->albumentations) (4.4.2)\n",
            "Requirement already satisfied: cycler>=0.10 in /usr/local/lib/python3.6/dist-packages (from matplotlib!=3.0.0,>=2.0.0->scikit-image>=0.11.0->imgaug<0.2.7,>=0.2.5->albumentations) (0.10.0)\n",
            "Requirement already satisfied: python-dateutil>=2.1 in /usr/local/lib/python3.6/dist-packages (from matplotlib!=3.0.0,>=2.0.0->scikit-image>=0.11.0->imgaug<0.2.7,>=0.2.5->albumentations) (2.8.1)\n",
            "Requirement already satisfied: pyparsing!=2.0.4,!=2.1.2,!=2.1.6,>=2.0.1 in /usr/local/lib/python3.6/dist-packages (from matplotlib!=3.0.0,>=2.0.0->scikit-image>=0.11.0->imgaug<0.2.7,>=0.2.5->albumentations) (2.4.7)\n",
            "Requirement already satisfied: kiwisolver>=1.0.1 in /usr/local/lib/python3.6/dist-packages (from matplotlib!=3.0.0,>=2.0.0->scikit-image>=0.11.0->imgaug<0.2.7,>=0.2.5->albumentations) (1.2.0)\n",
            "Building wheels for collected packages: imgaug\n",
            "  Building wheel for imgaug (setup.py) ... \u001b[?25l\u001b[?25hdone\n",
            "  Created wheel for imgaug: filename=imgaug-0.2.6-cp36-none-any.whl size=654020 sha256=54ad19cd612ae07b328e0c4dc5ddeaadd395d610f971ec8e064d3ed1bc834e99\n",
            "  Stored in directory: /root/.cache/pip/wheels/97/ec/48/0d25896c417b715af6236dbcef8f0bed136a1a5e52972fc6d0\n",
            "Successfully built imgaug\n",
            "Installing collected packages: imgaug\n",
            "  Found existing installation: imgaug 0.2.9\n",
            "    Uninstalling imgaug-0.2.9:\n",
            "      Successfully uninstalled imgaug-0.2.9\n",
            "Successfully installed imgaug-0.2.6\n"
          ],
          "name": "stdout"
        }
      ]
    },
    {
      "cell_type": "code",
      "metadata": {
>>>>>>> 5d248e4e6ce69c748e354d2362a1cfeabcc61bfb
        "id": "LPN3-JitIKm-",
        "colab_type": "code",
        "colab": {}
      },
      "source": [
<<<<<<< HEAD
        "from srini_dataloader import cifar10_loader\n",
=======
        "from srini_dataloader import cifar10_loader_albumentation\n",
>>>>>>> 5d248e4e6ce69c748e354d2362a1cfeabcc61bfb
        "from srini_resnet import *\n",
        "from srini_train import train_test_model\n",
        "from srini_test import accuracy_by_class\n"
      ],
      "execution_count": 0,
      "outputs": []
    },
    {
      "cell_type": "markdown",
      "metadata": {
        "id": "Wf1ryKRzK1Wp",
        "colab_type": "text"
      },
      "source": [
        "## Define Model"
      ]
    },
    {
      "cell_type": "code",
      "metadata": {
        "id": "uW352IX9I03z",
        "colab_type": "code",
<<<<<<< HEAD
        "colab": {
          "base_uri": "https://localhost:8080/",
          "height": 1000
        },
        "outputId": "1bbde49e-7e71-438d-87c5-ed75acd3b3bf"
=======
        "outputId": "c659be30-2fd2-404b-e82d-1fe50cf8cd1e",
        "colab": {
          "base_uri": "https://localhost:8080/",
          "height": 1000
        }
>>>>>>> 5d248e4e6ce69c748e354d2362a1cfeabcc61bfb
      },
      "source": [
        "use_cuda = torch.cuda.is_available()\n",
        "device = torch.device(\"cuda\" if use_cuda else \"cpu\")\n",
        "model = ResNet18().to(device)\n",
        "summary(model, input_size=(3, 32, 32))"
      ],
<<<<<<< HEAD
      "execution_count": 6,
=======
      "execution_count": 7,
>>>>>>> 5d248e4e6ce69c748e354d2362a1cfeabcc61bfb
      "outputs": [
        {
          "output_type": "stream",
          "text": [
            "----------------------------------------------------------------\n",
            "        Layer (type)               Output Shape         Param #\n",
            "================================================================\n",
            "            Conv2d-1           [-1, 64, 32, 32]           1,728\n",
            "       BatchNorm2d-2           [-1, 64, 32, 32]             128\n",
            "            Conv2d-3           [-1, 64, 32, 32]          36,864\n",
            "       BatchNorm2d-4           [-1, 64, 32, 32]             128\n",
            "            Conv2d-5           [-1, 64, 32, 32]          36,864\n",
            "       BatchNorm2d-6           [-1, 64, 32, 32]             128\n",
            "        BasicBlock-7           [-1, 64, 32, 32]               0\n",
            "            Conv2d-8           [-1, 64, 32, 32]          36,864\n",
            "       BatchNorm2d-9           [-1, 64, 32, 32]             128\n",
            "           Conv2d-10           [-1, 64, 32, 32]          36,864\n",
            "      BatchNorm2d-11           [-1, 64, 32, 32]             128\n",
            "       BasicBlock-12           [-1, 64, 32, 32]               0\n",
            "           Conv2d-13          [-1, 128, 16, 16]          73,728\n",
            "      BatchNorm2d-14          [-1, 128, 16, 16]             256\n",
            "           Conv2d-15          [-1, 128, 16, 16]         147,456\n",
            "      BatchNorm2d-16          [-1, 128, 16, 16]             256\n",
            "           Conv2d-17          [-1, 128, 16, 16]           8,192\n",
            "      BatchNorm2d-18          [-1, 128, 16, 16]             256\n",
            "       BasicBlock-19          [-1, 128, 16, 16]               0\n",
            "           Conv2d-20          [-1, 128, 16, 16]         147,456\n",
            "      BatchNorm2d-21          [-1, 128, 16, 16]             256\n",
            "           Conv2d-22          [-1, 128, 16, 16]         147,456\n",
            "      BatchNorm2d-23          [-1, 128, 16, 16]             256\n",
            "       BasicBlock-24          [-1, 128, 16, 16]               0\n",
            "           Conv2d-25            [-1, 256, 8, 8]         294,912\n",
            "      BatchNorm2d-26            [-1, 256, 8, 8]             512\n",
            "           Conv2d-27            [-1, 256, 8, 8]         589,824\n",
            "      BatchNorm2d-28            [-1, 256, 8, 8]             512\n",
            "           Conv2d-29            [-1, 256, 8, 8]          32,768\n",
            "      BatchNorm2d-30            [-1, 256, 8, 8]             512\n",
            "       BasicBlock-31            [-1, 256, 8, 8]               0\n",
            "           Conv2d-32            [-1, 256, 8, 8]         589,824\n",
            "      BatchNorm2d-33            [-1, 256, 8, 8]             512\n",
            "           Conv2d-34            [-1, 256, 8, 8]         589,824\n",
            "      BatchNorm2d-35            [-1, 256, 8, 8]             512\n",
            "       BasicBlock-36            [-1, 256, 8, 8]               0\n",
            "           Conv2d-37            [-1, 512, 4, 4]       1,179,648\n",
            "      BatchNorm2d-38            [-1, 512, 4, 4]           1,024\n",
            "           Conv2d-39            [-1, 512, 4, 4]       2,359,296\n",
            "      BatchNorm2d-40            [-1, 512, 4, 4]           1,024\n",
            "           Conv2d-41            [-1, 512, 4, 4]         131,072\n",
            "      BatchNorm2d-42            [-1, 512, 4, 4]           1,024\n",
            "       BasicBlock-43            [-1, 512, 4, 4]               0\n",
            "           Conv2d-44            [-1, 512, 4, 4]       2,359,296\n",
            "      BatchNorm2d-45            [-1, 512, 4, 4]           1,024\n",
            "           Conv2d-46            [-1, 512, 4, 4]       2,359,296\n",
            "      BatchNorm2d-47            [-1, 512, 4, 4]           1,024\n",
            "       BasicBlock-48            [-1, 512, 4, 4]               0\n",
            "           Linear-49                   [-1, 10]           5,130\n",
            "================================================================\n",
            "Total params: 11,173,962\n",
            "Trainable params: 11,173,962\n",
            "Non-trainable params: 0\n",
            "----------------------------------------------------------------\n",
            "Input size (MB): 0.01\n",
            "Forward/backward pass size (MB): 11.25\n",
            "Params size (MB): 42.63\n",
            "Estimated Total Size (MB): 53.89\n",
            "----------------------------------------------------------------\n"
          ],
          "name": "stdout"
        }
      ]
    },
    {
      "cell_type": "markdown",
      "metadata": {
        "id": "1OO4UhlSLj_K",
        "colab_type": "text"
      },
      "source": [
        "## Load Data and define Optimizer"
      ]
    },
    {
      "cell_type": "code",
      "metadata": {
<<<<<<< HEAD
        "id": "kUalfWwZLPQw",
        "colab_type": "code",
        "colab": {
          "base_uri": "https://localhost:8080/",
          "height": 51
        },
        "outputId": "016ea270-da17-4c06-a3fd-4a02e9c8e8e1"
      },
      "source": [
        "trainloader, testloader = cifar10_loader()"
      ],
      "execution_count": 7,
=======
        "id": "PdiOPAav56Dl",
        "colab_type": "code",
        "colab": {}
      },
      "source": [
        "from albumentations import (\n",
        "    HorizontalFlip, IAAPerspective, ShiftScaleRotate, CLAHE, RandomRotate90,\n",
        "    Transpose, Blur, OpticalDistortion, GridDistortion, HueSaturationValue,\n",
        "    IAAAdditiveGaussianNoise, GaussNoise, MotionBlur, MedianBlur, RandomBrightnessContrast, IAAPiecewiseAffine,\n",
        "    IAASharpen, IAAEmboss, Flip, OneOf, Compose,Normalize\n",
        ")\n",
        "from albumentations.pytorch import ToTensor\n",
        "import cv2\n",
        "    \n",
        "def cifar10_loader_albumentation_2(HorizontalFlip_p = 0, IAAPerspective_p = 0, ShiftScaleRotate_p = 0, CLAHE_p = 0, RandomRotate90_p = 0,\n",
        "    Transpose_p = 0, Blur_p = 0, OpticalDistortion_p = 0, GridDistortion_p = 0, HueSaturationValue_p = 0,\n",
        "    IAAAdditiveGaussianNoise_p = 0, GaussNoise_p = 0, MotionBlur_p = 0, MedianBlur_p = 0, RandomBrightnessContrast_p = 0, IAAPiecewiseAffine_p = 0,\n",
        "    IAASharpen_p = 0, IAAEmboss_p = 0, Flip_p = 0, OneOf_p = 0 , Compose_p = 1) :\n",
        "    \n",
        "    class albu_transforms:\n",
        "        def __init__(self,transforms):\n",
        "            self.transforms = transforms\n",
        "\n",
        "        def __call__(self,data):\n",
        "            data = np.array(data)\n",
        "            img = self.transforms(image=data)[\"image\"]\n",
        "            return img\n",
        "\n",
        "    transform_train = Compose([\n",
        "        ToTensor(),\n",
        "        Normalize(mean=(0.5,0.5,0.5), std=(0.5, 0.5, 0.5), always_apply=True),\n",
        "        HorizontalFlip(p=HorizontalFlip_p),\n",
        "        OneOf([\n",
        "            IAAAdditiveGaussianNoise(p=IAAAdditiveGaussianNoise_p),\n",
        "            GaussNoise(p=GaussNoise_p),\n",
        "        ], p=(IAAAdditiveGaussianNoise_p+GaussNoise_p)),\n",
        "        OneOf([\n",
        "            MotionBlur(p=MotionBlur_p),\n",
        "            MedianBlur(blur_limit=3, p=MedianBlur_p),\n",
        "            Blur(blur_limit=3, p=Blur_p),\n",
        "        ], p=(MotionBlur_p+MedianBlur_p+Blur_p)),\n",
        "        ShiftScaleRotate(shift_limit=0.0625, scale_limit=0.2, rotate_limit=45, p=ShiftScaleRotate_p),\n",
        "        OneOf([\n",
        "            OpticalDistortion(p=OpticalDistortion_p),\n",
        "            GridDistortion(p=GridDistortion_p),\n",
        "            IAAPiecewiseAffine(p=IAAPiecewiseAffine_p),\n",
        "        ], p=(OpticalDistortion_p + GridDistortion_p + IAAPiecewiseAffine_p)),\n",
        "        OneOf([\n",
        "            CLAHE(clip_limit=2,p=CLAHE_p),\n",
        "            IAASharpen(p=IAASharpen_p),\n",
        "            IAAEmboss(p=IAAEmboss_p),\n",
        "            RandomBrightnessContrast(p=RandomBrightnessContrast_p),            \n",
        "        ], p=(CLAHE_p+IAASharpen_p+IAAEmboss_p+RandomBrightnessContrast_p)),\n",
        "        HueSaturationValue(p=HueSaturationValue_p),\n",
        "    ], p=Compose_p)\n",
        "\n",
        "    transform_test = Compose([\n",
        "        ToTensor(),\n",
        "        Normalize(mean=(0.5,0.5,0.5), std=(0.5, 0.5, 0.5), always_apply=True),\n",
        "    ], p=Compose_p)\n",
        "\n",
        "\n",
        "    trainset = torchvision.datasets.CIFAR10(root='./data', train=True,\n",
        "                                            download=True, transform=albu_transforms(transform_train))\n",
        "    trainloader = torch.utils.data.DataLoader(trainset, batch_size=128,\n",
        "                                              shuffle=True, num_workers=2)\n",
        "\n",
        "    testset = torchvision.datasets.CIFAR10(root='./data', train=False,\n",
        "                                           download=True, transform=albu_transforms(transform_test))\n",
        "    testloader = torch.utils.data.DataLoader(testset, batch_size=128,\n",
        "                                             shuffle=False, num_workers=2)\n",
        "\n",
        "    classes = ('plane', 'car', 'bird', 'cat',\n",
        "               'deer', 'dog', 'frog', 'horse', 'ship', 'truck')\n",
        "               \n",
        "    return trainloader, testloader"
      ],
      "execution_count": 0,
      "outputs": []
    },
    {
      "cell_type": "code",
      "metadata": {
        "id": "kUalfWwZLPQw",
        "colab_type": "code",
        "outputId": "eba1e09a-0527-4e73-bbc3-548003027cf3",
        "colab": {
          "base_uri": "https://localhost:8080/",
          "height": 99,
          "referenced_widgets": [
            "0ec4f880e3cd4b7b8ffec551d9c3c355",
            "c56c3d997cff46c2b9c0e851b3a009ff",
            "a4b099b0eaeb44e1a7d64fd9daa0476a",
            "de8b2c9b93054991947d7de5e5389a4a",
            "4e13e7cb893d48b0937810af1204674a",
            "bd57ee97f22c4b85a11126315592781a",
            "9613c7e4df124a6d867b564c3d0cbe4d",
            "6942f584d458423fb6dbebbd1e67a8b0"
          ]
        }
      },
      "source": [
        "trainloader, testloader = cifar10_loader_albumentation_2(HorizontalFlip_p = 0.2, IAAPerspective_p = 0, ShiftScaleRotate_p = 0.2, CLAHE_p = 0.1, RandomRotate90_p = 0,\n",
        "    Transpose_p = 0, Blur_p = 0.1, OpticalDistortion_p = 0.1, GridDistortion_p = 0.1, HueSaturationValue_p = 0.2,\n",
        "    IAAAdditiveGaussianNoise_p = 0.1, GaussNoise_p = 0.1, MotionBlur_p = 0.1, MedianBlur_p = 0.1, RandomBrightnessContrast_p = 0, IAAPiecewiseAffine_p = 0.1,\n",
        "    IAASharpen_p = 0.1, IAAEmboss_p = 0.1, Flip_p = 0, Compose_p = 1)"
      ],
      "execution_count": 9,
>>>>>>> 5d248e4e6ce69c748e354d2362a1cfeabcc61bfb
      "outputs": [
        {
          "output_type": "stream",
          "text": [
<<<<<<< HEAD
            "Files already downloaded and verified\n",
=======
            "Downloading https://www.cs.toronto.edu/~kriz/cifar-10-python.tar.gz to ./data/cifar-10-python.tar.gz\n"
          ],
          "name": "stdout"
        },
        {
          "output_type": "display_data",
          "data": {
            "application/vnd.jupyter.widget-view+json": {
              "model_id": "0ec4f880e3cd4b7b8ffec551d9c3c355",
              "version_minor": 0,
              "version_major": 2
            },
            "text/plain": [
              "HBox(children=(FloatProgress(value=1.0, bar_style='info', max=1.0), HTML(value='')))"
            ]
          },
          "metadata": {
            "tags": []
          }
        },
        {
          "output_type": "stream",
          "text": [
            "Extracting ./data/cifar-10-python.tar.gz to ./data\n",
>>>>>>> 5d248e4e6ce69c748e354d2362a1cfeabcc61bfb
            "Files already downloaded and verified\n"
          ],
          "name": "stdout"
        }
      ]
    },
    {
      "cell_type": "code",
      "metadata": {
        "id": "5Q4QcIE0LtQA",
        "colab_type": "code",
        "colab": {}
      },
      "source": [
        "criterion = nn.CrossEntropyLoss()\n",
        "optimizer = optim.SGD(model.parameters(), lr=0.005, momentum=0.9)\n",
        "scheduler = StepLR(optimizer,step_size=3,gamma=0.2)"
      ],
      "execution_count": 0,
      "outputs": []
    },
    {
      "cell_type": "code",
      "metadata": {
        "id": "LQWdiUlMMBrV",
        "colab_type": "code",
<<<<<<< HEAD
        "colab": {
          "base_uri": "https://localhost:8080/",
          "height": 1000
        },
        "outputId": "72fb450c-2f5d-4541-8a10-9f1e877e2140"
      },
      "source": [
        "train_accuracy_list, test_accuracy_list = train_test_model(model=model,device=device,trainloader=trainloader,testloader=testloader,optimizer=optimizer,criterion=criterion,epochs=20,model_name=\"cifar10_resnet\")"
      ],
      "execution_count": 9,
=======
        "outputId": "4281c41b-bebe-4698-9df5-a2bc04a479f9",
        "colab": {
          "base_uri": "https://localhost:8080/",
          "height": 642
        }
      },
      "source": [
        "train_accuracy_list, test_accuracy_list = train_test_model(model=model,device=device,trainloader=trainloader,testloader=testloader,optimizer=optimizer,criterion=criterion,epochs=2,model_name=\"cifar10_resnet\")"
      ],
      "execution_count": 11,
>>>>>>> 5d248e4e6ce69c748e354d2362a1cfeabcc61bfb
      "outputs": [
        {
          "output_type": "stream",
          "text": [
<<<<<<< HEAD
            "TRAINING STARTS\n",
            "********** EPOCH NUMBER IS  0  *************\n",
            "Training Accuracy: 53 %\n",
            "Test Accuracy: 65 %\n",
            "********** EPOCH NUMBER IS  1  *************\n",
            "Training Accuracy: 72 %\n",
            "Test Accuracy: 75 %\n",
            "********** EPOCH NUMBER IS  2  *************\n",
            "Training Accuracy: 81 %\n",
            "Test Accuracy: 77 %\n",
            "********** EPOCH NUMBER IS  3  *************\n",
            "Training Accuracy: 87 %\n",
            "Test Accuracy: 77 %\n",
            "********** EPOCH NUMBER IS  4  *************\n",
            "Training Accuracy: 92 %\n",
            "Test Accuracy: 79 %\n",
            "********** EPOCH NUMBER IS  5  *************\n",
            "Training Accuracy: 95 %\n",
            "Test Accuracy: 79 %\n",
            "********** EPOCH NUMBER IS  6  *************\n",
            "Training Accuracy: 97 %\n",
            "Test Accuracy: 79 %\n",
            "********** EPOCH NUMBER IS  7  *************\n",
            "Training Accuracy: 98 %\n",
            "Test Accuracy: 79 %\n",
            "********** EPOCH NUMBER IS  8  *************\n",
            "Training Accuracy: 98 %\n",
            "Test Accuracy: 79 %\n",
            "********** EPOCH NUMBER IS  9  *************\n",
            "Training Accuracy: 99 %\n",
            "Test Accuracy: 81 %\n",
            "********** EPOCH NUMBER IS  10  *************\n",
            "Training Accuracy: 99 %\n",
            "Test Accuracy: 81 %\n",
            "********** EPOCH NUMBER IS  11  *************\n",
            "Training Accuracy: 99 %\n",
            "Test Accuracy: 82 %\n",
            "********** EPOCH NUMBER IS  12  *************\n",
            "Training Accuracy: 99 %\n",
            "Test Accuracy: 82 %\n",
            "********** EPOCH NUMBER IS  13  *************\n",
            "Training Accuracy: 100 %\n",
            "Test Accuracy: 82 %\n",
            "********** EPOCH NUMBER IS  14  *************\n",
            "Training Accuracy: 100 %\n",
            "Test Accuracy: 82 %\n",
            "********** EPOCH NUMBER IS  15  *************\n",
            "Training Accuracy: 100 %\n",
            "Test Accuracy: 82 %\n",
            "********** EPOCH NUMBER IS  16  *************\n",
            "Training Accuracy: 100 %\n",
            "Test Accuracy: 82 %\n",
            "********** EPOCH NUMBER IS  17  *************\n",
            "Training Accuracy: 100 %\n",
            "Test Accuracy: 82 %\n",
            "********** EPOCH NUMBER IS  18  *************\n",
            "Training Accuracy: 100 %\n",
            "Test Accuracy: 82 %\n",
            "********** EPOCH NUMBER IS  19  *************\n",
            "Training Accuracy: 100 %\n",
            "Test Accuracy: 83 %\n",
            "Finished Training\n"
          ],
          "name": "stdout"
=======
            "TRAINING STARTS\n"
          ],
          "name": "stdout"
        },
        {
          "output_type": "error",
          "ename": "AttributeError",
          "evalue": "ignored",
          "traceback": [
            "\u001b[0;31m---------------------------------------------------------------------------\u001b[0m",
            "\u001b[0;31mAttributeError\u001b[0m                            Traceback (most recent call last)",
            "\u001b[0;32m<ipython-input-11-41b5c29e1df3>\u001b[0m in \u001b[0;36m<module>\u001b[0;34m()\u001b[0m\n\u001b[0;32m----> 1\u001b[0;31m \u001b[0mtrain_accuracy_list\u001b[0m\u001b[0;34m,\u001b[0m \u001b[0mtest_accuracy_list\u001b[0m \u001b[0;34m=\u001b[0m \u001b[0mtrain_test_model\u001b[0m\u001b[0;34m(\u001b[0m\u001b[0mmodel\u001b[0m\u001b[0;34m=\u001b[0m\u001b[0mmodel\u001b[0m\u001b[0;34m,\u001b[0m\u001b[0mdevice\u001b[0m\u001b[0;34m=\u001b[0m\u001b[0mdevice\u001b[0m\u001b[0;34m,\u001b[0m\u001b[0mtrainloader\u001b[0m\u001b[0;34m=\u001b[0m\u001b[0mtrainloader\u001b[0m\u001b[0;34m,\u001b[0m\u001b[0mtestloader\u001b[0m\u001b[0;34m=\u001b[0m\u001b[0mtestloader\u001b[0m\u001b[0;34m,\u001b[0m\u001b[0moptimizer\u001b[0m\u001b[0;34m=\u001b[0m\u001b[0moptimizer\u001b[0m\u001b[0;34m,\u001b[0m\u001b[0mcriterion\u001b[0m\u001b[0;34m=\u001b[0m\u001b[0mcriterion\u001b[0m\u001b[0;34m,\u001b[0m\u001b[0mepochs\u001b[0m\u001b[0;34m=\u001b[0m\u001b[0;36m2\u001b[0m\u001b[0;34m,\u001b[0m\u001b[0mmodel_name\u001b[0m\u001b[0;34m=\u001b[0m\u001b[0;34m\"cifar10_resnet\"\u001b[0m\u001b[0;34m)\u001b[0m\u001b[0;34m\u001b[0m\u001b[0;34m\u001b[0m\u001b[0m\n\u001b[0m",
            "\u001b[0;32m/content/gdrive/My Drive/Colab Notebooks/Session9/srini_train.py\u001b[0m in \u001b[0;36mtrain_test_model\u001b[0;34m(model, device, trainloader, testloader, optimizer, criterion, epochs, model_name)\u001b[0m\n\u001b[1;32m     10\u001b[0m         \u001b[0mcorrect\u001b[0m \u001b[0;34m=\u001b[0m \u001b[0;36m0\u001b[0m\u001b[0;34m\u001b[0m\u001b[0;34m\u001b[0m\u001b[0m\n\u001b[1;32m     11\u001b[0m         \u001b[0mtotal\u001b[0m \u001b[0;34m=\u001b[0m \u001b[0;36m0\u001b[0m\u001b[0;34m\u001b[0m\u001b[0;34m\u001b[0m\u001b[0m\n\u001b[0;32m---> 12\u001b[0;31m         \u001b[0;32mfor\u001b[0m \u001b[0mi\u001b[0m\u001b[0;34m,\u001b[0m \u001b[0mdata\u001b[0m \u001b[0;32min\u001b[0m \u001b[0menumerate\u001b[0m\u001b[0;34m(\u001b[0m\u001b[0mtrainloader\u001b[0m\u001b[0;34m,\u001b[0m \u001b[0;36m0\u001b[0m\u001b[0;34m)\u001b[0m\u001b[0;34m:\u001b[0m\u001b[0;34m\u001b[0m\u001b[0;34m\u001b[0m\u001b[0m\n\u001b[0m\u001b[1;32m     13\u001b[0m             \u001b[0;31m# get the inputs\u001b[0m\u001b[0;34m\u001b[0m\u001b[0;34m\u001b[0m\u001b[0;34m\u001b[0m\u001b[0m\n\u001b[1;32m     14\u001b[0m             \u001b[0minputs\u001b[0m\u001b[0;34m,\u001b[0m \u001b[0mlabels\u001b[0m \u001b[0;34m=\u001b[0m \u001b[0mdata\u001b[0m\u001b[0;34m\u001b[0m\u001b[0;34m\u001b[0m\u001b[0m\n",
            "\u001b[0;32m/usr/local/lib/python3.6/dist-packages/torch/utils/data/dataloader.py\u001b[0m in \u001b[0;36m__next__\u001b[0;34m(self)\u001b[0m\n\u001b[1;32m    343\u001b[0m \u001b[0;34m\u001b[0m\u001b[0m\n\u001b[1;32m    344\u001b[0m     \u001b[0;32mdef\u001b[0m \u001b[0m__next__\u001b[0m\u001b[0;34m(\u001b[0m\u001b[0mself\u001b[0m\u001b[0;34m)\u001b[0m\u001b[0;34m:\u001b[0m\u001b[0;34m\u001b[0m\u001b[0;34m\u001b[0m\u001b[0m\n\u001b[0;32m--> 345\u001b[0;31m         \u001b[0mdata\u001b[0m \u001b[0;34m=\u001b[0m \u001b[0mself\u001b[0m\u001b[0;34m.\u001b[0m\u001b[0m_next_data\u001b[0m\u001b[0;34m(\u001b[0m\u001b[0;34m)\u001b[0m\u001b[0;34m\u001b[0m\u001b[0;34m\u001b[0m\u001b[0m\n\u001b[0m\u001b[1;32m    346\u001b[0m         \u001b[0mself\u001b[0m\u001b[0;34m.\u001b[0m\u001b[0m_num_yielded\u001b[0m \u001b[0;34m+=\u001b[0m \u001b[0;36m1\u001b[0m\u001b[0;34m\u001b[0m\u001b[0;34m\u001b[0m\u001b[0m\n\u001b[1;32m    347\u001b[0m         \u001b[0;32mif\u001b[0m \u001b[0mself\u001b[0m\u001b[0;34m.\u001b[0m\u001b[0m_dataset_kind\u001b[0m \u001b[0;34m==\u001b[0m \u001b[0m_DatasetKind\u001b[0m\u001b[0;34m.\u001b[0m\u001b[0mIterable\u001b[0m \u001b[0;32mand\u001b[0m\u001b[0;31m \u001b[0m\u001b[0;31m\\\u001b[0m\u001b[0;34m\u001b[0m\u001b[0;34m\u001b[0m\u001b[0m\n",
            "\u001b[0;32m/usr/local/lib/python3.6/dist-packages/torch/utils/data/dataloader.py\u001b[0m in \u001b[0;36m_next_data\u001b[0;34m(self)\u001b[0m\n\u001b[1;32m    854\u001b[0m             \u001b[0;32melse\u001b[0m\u001b[0;34m:\u001b[0m\u001b[0;34m\u001b[0m\u001b[0;34m\u001b[0m\u001b[0m\n\u001b[1;32m    855\u001b[0m                 \u001b[0;32mdel\u001b[0m \u001b[0mself\u001b[0m\u001b[0;34m.\u001b[0m\u001b[0m_task_info\u001b[0m\u001b[0;34m[\u001b[0m\u001b[0midx\u001b[0m\u001b[0;34m]\u001b[0m\u001b[0;34m\u001b[0m\u001b[0;34m\u001b[0m\u001b[0m\n\u001b[0;32m--> 856\u001b[0;31m                 \u001b[0;32mreturn\u001b[0m \u001b[0mself\u001b[0m\u001b[0;34m.\u001b[0m\u001b[0m_process_data\u001b[0m\u001b[0;34m(\u001b[0m\u001b[0mdata\u001b[0m\u001b[0;34m)\u001b[0m\u001b[0;34m\u001b[0m\u001b[0;34m\u001b[0m\u001b[0m\n\u001b[0m\u001b[1;32m    857\u001b[0m \u001b[0;34m\u001b[0m\u001b[0m\n\u001b[1;32m    858\u001b[0m     \u001b[0;32mdef\u001b[0m \u001b[0m_try_put_index\u001b[0m\u001b[0;34m(\u001b[0m\u001b[0mself\u001b[0m\u001b[0;34m)\u001b[0m\u001b[0;34m:\u001b[0m\u001b[0;34m\u001b[0m\u001b[0;34m\u001b[0m\u001b[0m\n",
            "\u001b[0;32m/usr/local/lib/python3.6/dist-packages/torch/utils/data/dataloader.py\u001b[0m in \u001b[0;36m_process_data\u001b[0;34m(self, data)\u001b[0m\n\u001b[1;32m    879\u001b[0m         \u001b[0mself\u001b[0m\u001b[0;34m.\u001b[0m\u001b[0m_try_put_index\u001b[0m\u001b[0;34m(\u001b[0m\u001b[0;34m)\u001b[0m\u001b[0;34m\u001b[0m\u001b[0;34m\u001b[0m\u001b[0m\n\u001b[1;32m    880\u001b[0m         \u001b[0;32mif\u001b[0m \u001b[0misinstance\u001b[0m\u001b[0;34m(\u001b[0m\u001b[0mdata\u001b[0m\u001b[0;34m,\u001b[0m \u001b[0mExceptionWrapper\u001b[0m\u001b[0;34m)\u001b[0m\u001b[0;34m:\u001b[0m\u001b[0;34m\u001b[0m\u001b[0;34m\u001b[0m\u001b[0m\n\u001b[0;32m--> 881\u001b[0;31m             \u001b[0mdata\u001b[0m\u001b[0;34m.\u001b[0m\u001b[0mreraise\u001b[0m\u001b[0;34m(\u001b[0m\u001b[0;34m)\u001b[0m\u001b[0;34m\u001b[0m\u001b[0;34m\u001b[0m\u001b[0m\n\u001b[0m\u001b[1;32m    882\u001b[0m         \u001b[0;32mreturn\u001b[0m \u001b[0mdata\u001b[0m\u001b[0;34m\u001b[0m\u001b[0;34m\u001b[0m\u001b[0m\n\u001b[1;32m    883\u001b[0m \u001b[0;34m\u001b[0m\u001b[0m\n",
            "\u001b[0;32m/usr/local/lib/python3.6/dist-packages/torch/_utils.py\u001b[0m in \u001b[0;36mreraise\u001b[0;34m(self)\u001b[0m\n\u001b[1;32m    393\u001b[0m             \u001b[0;31m# (https://bugs.python.org/issue2651), so we work around it.\u001b[0m\u001b[0;34m\u001b[0m\u001b[0;34m\u001b[0m\u001b[0;34m\u001b[0m\u001b[0m\n\u001b[1;32m    394\u001b[0m             \u001b[0mmsg\u001b[0m \u001b[0;34m=\u001b[0m \u001b[0mKeyErrorMessage\u001b[0m\u001b[0;34m(\u001b[0m\u001b[0mmsg\u001b[0m\u001b[0;34m)\u001b[0m\u001b[0;34m\u001b[0m\u001b[0;34m\u001b[0m\u001b[0m\n\u001b[0;32m--> 395\u001b[0;31m         \u001b[0;32mraise\u001b[0m \u001b[0mself\u001b[0m\u001b[0;34m.\u001b[0m\u001b[0mexc_type\u001b[0m\u001b[0;34m(\u001b[0m\u001b[0mmsg\u001b[0m\u001b[0;34m)\u001b[0m\u001b[0;34m\u001b[0m\u001b[0;34m\u001b[0m\u001b[0m\n\u001b[0m",
            "\u001b[0;31mAttributeError\u001b[0m: Caught AttributeError in DataLoader worker process 0.\nOriginal Traceback (most recent call last):\n  File \"/usr/local/lib/python3.6/dist-packages/torch/utils/data/_utils/worker.py\", line 178, in _worker_loop\n    data = fetcher.fetch(index)\n  File \"/usr/local/lib/python3.6/dist-packages/torch/utils/data/_utils/fetch.py\", line 44, in fetch\n    data = [self.dataset[idx] for idx in possibly_batched_index]\n  File \"/usr/local/lib/python3.6/dist-packages/torch/utils/data/_utils/fetch.py\", line 44, in <listcomp>\n    data = [self.dataset[idx] for idx in possibly_batched_index]\n  File \"/usr/local/lib/python3.6/dist-packages/torchvision/datasets/cifar.py\", line 113, in __getitem__\n    img = self.transform(img)\n  File \"<ipython-input-8-30136d60bff8>\", line 21, in __call__\n    img = self.transforms(image=data)[\"image\"]\n  File \"/usr/local/lib/python3.6/dist-packages/albumentations/core/composition.py\", line 171, in __call__\n    data = t(**data)\n  File \"/usr/local/lib/python3.6/dist-packages/albumentations/core/transforms_interface.py\", line 38, in __call__\n    res[key] = target_function(arg, **dict(params, **target_dependencies))\n  File \"/usr/local/lib/python3.6/dist-packages/albumentations/augmentations/transforms.py\", line 808, in apply\n    return F.normalize(image, self.mean, self.std, self.max_pixel_value)\n  File \"/usr/local/lib/python3.6/dist-packages/albumentations/augmentations/functional.py\", line 92, in normalize\n    img = img.astype(np.float32)\nAttributeError: 'Tensor' object has no attribute 'astype'\n"
          ]
>>>>>>> 5d248e4e6ce69c748e354d2362a1cfeabcc61bfb
        }
      ]
    },
    {
      "cell_type": "code",
      "metadata": {
        "id": "T6mzMrgtaKu4",
        "colab_type": "code",
        "colab": {}
      },
      "source": [
        ""
      ],
      "execution_count": 0,
      "outputs": []
    }
  ]
}