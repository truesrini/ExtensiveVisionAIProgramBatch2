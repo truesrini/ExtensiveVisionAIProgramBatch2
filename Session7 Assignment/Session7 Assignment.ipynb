{
  "nbformat": 4,
  "nbformat_minor": 0,
  "metadata": {
    "kernelspec": {
      "name": "python3",
      "display_name": "Python 3"
    },
    "language_info": {
      "codemirror_mode": {
        "name": "ipython",
        "version": 3
      },
      "file_extension": ".py",
      "mimetype": "text/x-python",
      "name": "python",
      "nbconvert_exporter": "python",
      "pygments_lexer": "ipython3",
      "version": "3.6.6"
    },
    "colab": {
      "name": "S7.ipynb",
      "provenance": []
    },
    "accelerator": "GPU",
    "widgets": {
      "application/vnd.jupyter.widget-state+json": {
        "f6d0fb5ff12841bea131aa664e7ebdfe": {
          "model_module": "@jupyter-widgets/controls",
          "model_name": "HBoxModel",
          "state": {
            "_view_name": "HBoxView",
            "_dom_classes": [],
            "_model_name": "HBoxModel",
            "_view_module": "@jupyter-widgets/controls",
            "_model_module_version": "1.5.0",
            "_view_count": null,
            "_view_module_version": "1.5.0",
            "box_style": "",
            "layout": "IPY_MODEL_505743ddab084058998538b0aea0f1e2",
            "_model_module": "@jupyter-widgets/controls",
            "children": [
              "IPY_MODEL_865f994ce8b84b8992d8211c20de40aa",
              "IPY_MODEL_3d3d5ccd9a7f4d0d98ae49d53e55f570"
            ]
          }
        },
        "505743ddab084058998538b0aea0f1e2": {
          "model_module": "@jupyter-widgets/base",
          "model_name": "LayoutModel",
          "state": {
            "_view_name": "LayoutView",
            "grid_template_rows": null,
            "right": null,
            "justify_content": null,
            "_view_module": "@jupyter-widgets/base",
            "overflow": null,
            "_model_module_version": "1.2.0",
            "_view_count": null,
            "flex_flow": null,
            "width": null,
            "min_width": null,
            "border": null,
            "align_items": null,
            "bottom": null,
            "_model_module": "@jupyter-widgets/base",
            "top": null,
            "grid_column": null,
            "overflow_y": null,
            "overflow_x": null,
            "grid_auto_flow": null,
            "grid_area": null,
            "grid_template_columns": null,
            "flex": null,
            "_model_name": "LayoutModel",
            "justify_items": null,
            "grid_row": null,
            "max_height": null,
            "align_content": null,
            "visibility": null,
            "align_self": null,
            "height": null,
            "min_height": null,
            "padding": null,
            "grid_auto_rows": null,
            "grid_gap": null,
            "max_width": null,
            "order": null,
            "_view_module_version": "1.2.0",
            "grid_template_areas": null,
            "object_position": null,
            "object_fit": null,
            "grid_auto_columns": null,
            "margin": null,
            "display": null,
            "left": null
          }
        },
        "865f994ce8b84b8992d8211c20de40aa": {
          "model_module": "@jupyter-widgets/controls",
          "model_name": "FloatProgressModel",
          "state": {
            "_view_name": "ProgressView",
            "style": "IPY_MODEL_4306a3aeb1d84324a421a8a9a5eb7739",
            "_dom_classes": [],
            "description": "",
            "_model_name": "FloatProgressModel",
            "bar_style": "info",
            "max": 1,
            "_view_module": "@jupyter-widgets/controls",
            "_model_module_version": "1.5.0",
            "value": 1,
            "_view_count": null,
            "_view_module_version": "1.5.0",
            "orientation": "horizontal",
            "min": 0,
            "description_tooltip": null,
            "_model_module": "@jupyter-widgets/controls",
            "layout": "IPY_MODEL_6ee01851212c46499da2ba1bd88419ae"
          }
        },
        "3d3d5ccd9a7f4d0d98ae49d53e55f570": {
          "model_module": "@jupyter-widgets/controls",
          "model_name": "HTMLModel",
          "state": {
            "_view_name": "HTMLView",
            "style": "IPY_MODEL_2c276ac4aa5647e08828720597d8feaf",
            "_dom_classes": [],
            "description": "",
            "_model_name": "HTMLModel",
            "placeholder": "​",
            "_view_module": "@jupyter-widgets/controls",
            "_model_module_version": "1.5.0",
            "value": " 170500096/? [00:20&lt;00:00, 33644860.61it/s]",
            "_view_count": null,
            "_view_module_version": "1.5.0",
            "description_tooltip": null,
            "_model_module": "@jupyter-widgets/controls",
            "layout": "IPY_MODEL_af96bbaaff6143b48c1cd9ca341a17c2"
          }
        },
        "4306a3aeb1d84324a421a8a9a5eb7739": {
          "model_module": "@jupyter-widgets/controls",
          "model_name": "ProgressStyleModel",
          "state": {
            "_view_name": "StyleView",
            "_model_name": "ProgressStyleModel",
            "description_width": "initial",
            "_view_module": "@jupyter-widgets/base",
            "_model_module_version": "1.5.0",
            "_view_count": null,
            "_view_module_version": "1.2.0",
            "bar_color": null,
            "_model_module": "@jupyter-widgets/controls"
          }
        },
        "6ee01851212c46499da2ba1bd88419ae": {
          "model_module": "@jupyter-widgets/base",
          "model_name": "LayoutModel",
          "state": {
            "_view_name": "LayoutView",
            "grid_template_rows": null,
            "right": null,
            "justify_content": null,
            "_view_module": "@jupyter-widgets/base",
            "overflow": null,
            "_model_module_version": "1.2.0",
            "_view_count": null,
            "flex_flow": null,
            "width": null,
            "min_width": null,
            "border": null,
            "align_items": null,
            "bottom": null,
            "_model_module": "@jupyter-widgets/base",
            "top": null,
            "grid_column": null,
            "overflow_y": null,
            "overflow_x": null,
            "grid_auto_flow": null,
            "grid_area": null,
            "grid_template_columns": null,
            "flex": null,
            "_model_name": "LayoutModel",
            "justify_items": null,
            "grid_row": null,
            "max_height": null,
            "align_content": null,
            "visibility": null,
            "align_self": null,
            "height": null,
            "min_height": null,
            "padding": null,
            "grid_auto_rows": null,
            "grid_gap": null,
            "max_width": null,
            "order": null,
            "_view_module_version": "1.2.0",
            "grid_template_areas": null,
            "object_position": null,
            "object_fit": null,
            "grid_auto_columns": null,
            "margin": null,
            "display": null,
            "left": null
          }
        },
        "2c276ac4aa5647e08828720597d8feaf": {
          "model_module": "@jupyter-widgets/controls",
          "model_name": "DescriptionStyleModel",
          "state": {
            "_view_name": "StyleView",
            "_model_name": "DescriptionStyleModel",
            "description_width": "",
            "_view_module": "@jupyter-widgets/base",
            "_model_module_version": "1.5.0",
            "_view_count": null,
            "_view_module_version": "1.2.0",
            "_model_module": "@jupyter-widgets/controls"
          }
        },
        "af96bbaaff6143b48c1cd9ca341a17c2": {
          "model_module": "@jupyter-widgets/base",
          "model_name": "LayoutModel",
          "state": {
            "_view_name": "LayoutView",
            "grid_template_rows": null,
            "right": null,
            "justify_content": null,
            "_view_module": "@jupyter-widgets/base",
            "overflow": null,
            "_model_module_version": "1.2.0",
            "_view_count": null,
            "flex_flow": null,
            "width": null,
            "min_width": null,
            "border": null,
            "align_items": null,
            "bottom": null,
            "_model_module": "@jupyter-widgets/base",
            "top": null,
            "grid_column": null,
            "overflow_y": null,
            "overflow_x": null,
            "grid_auto_flow": null,
            "grid_area": null,
            "grid_template_columns": null,
            "flex": null,
            "_model_name": "LayoutModel",
            "justify_items": null,
            "grid_row": null,
            "max_height": null,
            "align_content": null,
            "visibility": null,
            "align_self": null,
            "height": null,
            "min_height": null,
            "padding": null,
            "grid_auto_rows": null,
            "grid_gap": null,
            "max_width": null,
            "order": null,
            "_view_module_version": "1.2.0",
            "grid_template_areas": null,
            "object_position": null,
            "object_fit": null,
            "grid_auto_columns": null,
            "margin": null,
            "display": null,
            "left": null
          }
        }
      }
    }
  },
  "cells": [
    {
      "cell_type": "code",
      "metadata": {
        "id": "QVbdg0z4poCc",
        "colab_type": "code",
        "colab": {}
      },
      "source": [
        "%matplotlib inline"
      ],
      "execution_count": 0,
      "outputs": []
    },
    {
      "cell_type": "markdown",
      "metadata": {
        "id": "fPogbueepoCh",
        "colab_type": "text"
      },
      "source": [
        "\n",
        "Training a Classifier\n",
        "=====================\n",
        "\n",
        "This is it. You have seen how to define neural networks, compute loss and make\n",
        "updates to the weights of the network.\n",
        "\n",
        "Now you might be thinking,\n",
        "\n",
        "What about data?\n",
        "----------------\n",
        "\n",
        "Generally, when you have to deal with image, text, audio or video data,\n",
        "you can use standard python packages that load data into a numpy array.\n",
        "Then you can convert this array into a ``torch.*Tensor``.\n",
        "\n",
        "-  For images, packages such as Pillow, OpenCV are useful\n",
        "-  For audio, packages such as scipy and librosa\n",
        "-  For text, either raw Python or Cython based loading, or NLTK and\n",
        "   SpaCy are useful\n",
        "\n",
        "Specifically for vision, we have created a package called\n",
        "``torchvision``, that has data loaders for common datasets such as\n",
        "Imagenet, CIFAR10, MNIST, etc. and data transformers for images, viz.,\n",
        "``torchvision.datasets`` and ``torch.utils.data.DataLoader``.\n",
        "\n",
        "This provides a huge convenience and avoids writing boilerplate code.\n",
        "\n",
        "For this tutorial, we will use the CIFAR10 dataset.\n",
        "It has the classes: ‘airplane’, ‘automobile’, ‘bird’, ‘cat’, ‘deer’,\n",
        "‘dog’, ‘frog’, ‘horse’, ‘ship’, ‘truck’. The images in CIFAR-10 are of\n",
        "size 3x32x32, i.e. 3-channel color images of 32x32 pixels in size.\n",
        "\n",
        ".. figure:: /_static/img/cifar10.png\n",
        "   :alt: cifar10\n",
        "\n",
        "   cifar10\n",
        "\n",
        "\n",
        "Training an image classifier\n",
        "----------------------------\n",
        "\n",
        "We will do the following steps in order:\n",
        "\n",
        "1. Load and normalizing the CIFAR10 training and test datasets using\n",
        "   ``torchvision``\n",
        "2. Define a Convolution Neural Network\n",
        "3. Define a loss function\n",
        "4. Train the network on the training data\n",
        "5. Test the network on the test data\n",
        "\n",
        "1. Loading and normalizing CIFAR10\n",
        "^^^^^^^^^^^^^^^^^^^^^^^^^^^^^^^^^^\n",
        "\n",
        "Using ``torchvision``, it’s extremely easy to load CIFAR10.\n",
        "\n"
      ]
    },
    {
      "cell_type": "code",
      "metadata": {
        "id": "-yVpodAMpoCi",
        "colab_type": "code",
        "colab": {}
      },
      "source": [
        "import torch\n",
        "import torchvision\n",
        "import torchvision.transforms as transforms\n",
        "import torch.nn as nn\n",
        "import torch.nn.functional as F\n",
        "from torch.optim.lr_scheduler import StepLR"
      ],
      "execution_count": 0,
      "outputs": []
    },
    {
      "cell_type": "code",
      "metadata": {
        "id": "bux3t_LoGNNl",
        "colab_type": "code",
        "colab": {}
      },
      "source": [
        "'''\n",
        "class depthwise_separable_conv(nn.Module):\n",
        "    def __init__(self, nin, kernels_per_layer, nout):\n",
        "        super(depthwise_separable_conv, self).__init__()\n",
        "        self.depthwise = nn.Conv2d(nin, nin * kernels_per_layer, kernel_size=3, padding=1, groups=nin)\n",
        "        self.pointwise = nn.Conv2d(nin * kernels_per_layer, nout, kernel_size=1)\n",
        "\n",
        "    def forward(self, x):\n",
        "        out = self.depthwise(x)\n",
        "        out = self.pointwise(out)\n",
        "        return out\n",
        "'''\n",
        "\n",
        "class Net(nn.Module):\n",
        "    def __init__(self):\n",
        "        super(Net, self).__init__()\n",
        "        self.conv1 = nn.Conv2d(3, 32, 3, padding=0)     #(k=3,p=0,s=1) input = 32, output = 30, rf = 3, jump = 1\n",
        "        self.batchnorm1 = nn.BatchNorm2d(32)\n",
        "        self.dropout1 = nn.Dropout(0.10)\n",
        "\n",
        "        self.conv2 = nn.Conv2d(32, 64, 3, padding=0)     #(k=3,p=0,s=1) input = 30, output = 28, rf = 5, jump = 1\n",
        "        self.batchnorm2 = nn.BatchNorm2d(64)\n",
        "        self.dropout2 = nn.Dropout(0.10)\n",
        "\n",
        "        self.conv3 = nn.Conv2d(64, 128, 3, padding=0)     #(k=3,p=0,s=1) input = 28, output = 26, rf = 7, jump = 1\n",
        "        self.batchnorm3 = nn.BatchNorm2d(128)\n",
        "        self.dropout3 = nn.Dropout(0.10)\n",
        "\n",
        "        self.conv3a = nn.Conv2d(128, 256, 3, padding=0)     #(k=3,p=0,s=1) input = 26, output = 24, rf = 9, jump = 1\n",
        "        self.batchnorm3a = nn.BatchNorm2d(256)\n",
        "        self.dropout3a = nn.Dropout(0.10)\n",
        "\n",
        "        self.pool1 = nn.AvgPool2d(2, 2)                #(k=2,p=0,s=2) input = 24, output = 12, rf = 10, jump = 1\n",
        "\n",
        "        self.conv4 = nn.Conv2d(256, 32, 3, padding=0)    #(k=3,p=0,s=1) input = 12, output = 10, rf = 14, jump = 2\n",
        "        self.batchnorm4 = nn.BatchNorm2d(32)\n",
        "        self.dropout4 = nn.Dropout(0.10)\n",
        "\n",
        "        self.conv5 = nn.Conv2d(32, 64, 3, padding=0)   #(k=3,p=0,s=1) input = 10, output = 8, rf = 18, jump = 2\n",
        "        self.batchnorm5 = nn.BatchNorm2d(64)\n",
        "        self.dropout5 = nn.Dropout(0.10)\n",
        "\n",
        "        self.conv6 = nn.Conv2d(64, 128, 3, padding=0)   #(k=3,p=0,s=1) input = 8, output = 6, rf = 22, jump = 2\n",
        "        self.batchnorm6 = nn.BatchNorm2d(128)\n",
        "        self.dropout6 = nn.Dropout(0.10)\n",
        "\n",
        "        self.conv6a = nn.Conv2d(128, 256, 3, padding=0)   #(k=3,p=0,s=1) input = 6, output = 4, rf = 26, jump = 2\n",
        "        self.batchnorm6a = nn.BatchNorm2d(256)\n",
        "        self.dropout6a = nn.Dropout(0.10)\n",
        "\n",
        "        self.pool2 = nn.AvgPool2d(4, 4)                \n",
        "\n",
        "        self.conv8 = nn.Conv2d(256, 10, 1, padding=0)   #(k=3,p=0,s=1) input = 5, output = 3, rf = 28, jump = 2\n",
        "\n",
        "\n",
        "    def forward(self, x):\n",
        "        x = self.pool1(self.dropout3a(self.batchnorm3a(F.relu(self.conv3a(self.dropout3(self.batchnorm3(F.relu(self.conv3(self.dropout2(self.batchnorm2(F.relu(self.conv2(self.dropout1(self.batchnorm1(F.relu(self.conv1(x)))))))))))))))))\n",
        "        x = self.pool2(self.dropout6a(self.batchnorm6a(F.relu(self.conv6a(self.dropout6(self.batchnorm6(F.relu(self.conv6(self.dropout5(self.batchnorm5(F.relu(self.conv5(self.dropout4(self.batchnorm4(F.relu(self.conv4(x)))))))))))))))))\n",
        "        x = self.conv8(x)\n",
        "        x = x.view(-1, 10)\n",
        "        return F.log_softmax(x)\n",
        "\n"
      ],
      "execution_count": 0,
      "outputs": []
    },
    {
      "cell_type": "markdown",
      "metadata": {
        "id": "5q2rDDE1DKNr",
        "colab_type": "text"
      },
      "source": [
        "Modify the Notebook to use GPU and also install summary to summarize information on number of parameters used"
      ]
    },
    {
      "cell_type": "code",
      "metadata": {
        "id": "N1_sI0fwCvzu",
        "colab_type": "code",
        "colab": {
          "base_uri": "https://localhost:8080/",
          "height": 742
        },
        "outputId": "59229b99-1744-40ef-f452-64b96da155f0"
      },
      "source": [
        "!pip install torchsummary\n",
        "from torchsummary import summary\n",
        "use_cuda = torch.cuda.is_available()\n",
        "device = torch.device(\"cuda\" if use_cuda else \"cpu\")\n",
        "model = Net().to(device)\n",
        "summary(model, input_size=(3, 32, 32))"
      ],
      "execution_count": 4,
      "outputs": [
        {
          "output_type": "stream",
          "text": [
            "Requirement already satisfied: torchsummary in /usr/local/lib/python3.6/dist-packages (1.5.1)\n",
            "----------------------------------------------------------------\n",
            "        Layer (type)               Output Shape         Param #\n",
            "================================================================\n",
            "            Conv2d-1           [-1, 32, 30, 30]             896\n",
            "       BatchNorm2d-2           [-1, 32, 30, 30]              64\n",
            "           Dropout-3           [-1, 32, 30, 30]               0\n",
            "            Conv2d-4           [-1, 64, 28, 28]          18,496\n",
            "       BatchNorm2d-5           [-1, 64, 28, 28]             128\n",
            "           Dropout-6           [-1, 64, 28, 28]               0\n",
            "            Conv2d-7          [-1, 128, 26, 26]          73,856\n",
            "       BatchNorm2d-8          [-1, 128, 26, 26]             256\n",
            "           Dropout-9          [-1, 128, 26, 26]               0\n",
            "           Conv2d-10          [-1, 256, 24, 24]         295,168\n",
            "      BatchNorm2d-11          [-1, 256, 24, 24]             512\n",
            "          Dropout-12          [-1, 256, 24, 24]               0\n",
            "        AvgPool2d-13          [-1, 256, 12, 12]               0\n",
            "           Conv2d-14           [-1, 32, 10, 10]          73,760\n",
            "      BatchNorm2d-15           [-1, 32, 10, 10]              64\n",
            "          Dropout-16           [-1, 32, 10, 10]               0\n",
            "           Conv2d-17             [-1, 64, 8, 8]          18,496\n",
            "      BatchNorm2d-18             [-1, 64, 8, 8]             128\n",
            "          Dropout-19             [-1, 64, 8, 8]               0\n",
            "           Conv2d-20            [-1, 128, 6, 6]          73,856\n",
            "      BatchNorm2d-21            [-1, 128, 6, 6]             256\n",
            "          Dropout-22            [-1, 128, 6, 6]               0\n",
            "           Conv2d-23            [-1, 256, 4, 4]         295,168\n",
            "      BatchNorm2d-24            [-1, 256, 4, 4]             512\n",
            "          Dropout-25            [-1, 256, 4, 4]               0\n",
            "        AvgPool2d-26            [-1, 256, 1, 1]               0\n",
            "           Conv2d-27             [-1, 10, 1, 1]           2,570\n",
            "================================================================\n",
            "Total params: 854,186\n",
            "Trainable params: 854,186\n",
            "Non-trainable params: 0\n",
            "----------------------------------------------------------------\n",
            "Input size (MB): 0.01\n",
            "Forward/backward pass size (MB): 7.81\n",
            "Params size (MB): 3.26\n",
            "Estimated Total Size (MB): 11.08\n",
            "----------------------------------------------------------------\n"
          ],
          "name": "stdout"
        },
        {
          "output_type": "stream",
          "text": [
            "/usr/local/lib/python3.6/dist-packages/ipykernel_launcher.py:61: UserWarning: Implicit dimension choice for log_softmax has been deprecated. Change the call to include dim=X as an argument.\n"
          ],
          "name": "stderr"
        }
      ]
    },
    {
      "cell_type": "markdown",
      "metadata": {
        "id": "5kjt4e2TpoCk",
        "colab_type": "text"
      },
      "source": [
        "The output of torchvision datasets are PILImage images of range [0, 1].\n",
        "We transform them to Tensors of normalized range [-1, 1].\n",
        "\n"
      ]
    },
    {
      "cell_type": "code",
      "metadata": {
        "id": "D8Tjigo2poCl",
        "colab_type": "code",
        "outputId": "4fe1b41d-5e01-419d-ac5c-04a57d1231fb",
        "colab": {
          "base_uri": "https://localhost:8080/",
          "height": 99,
          "referenced_widgets": [
            "f6d0fb5ff12841bea131aa664e7ebdfe",
            "505743ddab084058998538b0aea0f1e2",
            "865f994ce8b84b8992d8211c20de40aa",
            "3d3d5ccd9a7f4d0d98ae49d53e55f570",
            "4306a3aeb1d84324a421a8a9a5eb7739",
            "6ee01851212c46499da2ba1bd88419ae",
            "2c276ac4aa5647e08828720597d8feaf",
            "af96bbaaff6143b48c1cd9ca341a17c2"
          ]
        }
      },
      "source": [
        "transform = transforms.Compose(\n",
        "    [transforms.ToTensor(),\n",
        "     transforms.Normalize((0.5, 0.5, 0.5), (0.5, 0.5, 0.5))])\n",
        "\n",
        "trainset = torchvision.datasets.CIFAR10(root='./data', train=True,\n",
        "                                        download=True, transform=transform)\n",
        "trainloader = torch.utils.data.DataLoader(trainset, batch_size=4,\n",
        "                                          shuffle=True, num_workers=2)\n",
        "\n",
        "testset = torchvision.datasets.CIFAR10(root='./data', train=False,\n",
        "                                       download=True, transform=transform)\n",
        "testloader = torch.utils.data.DataLoader(testset, batch_size=4,\n",
        "                                         shuffle=False, num_workers=2)\n",
        "\n",
        "classes = ('plane', 'car', 'bird', 'cat',\n",
        "           'deer', 'dog', 'frog', 'horse', 'ship', 'truck')"
      ],
      "execution_count": 5,
      "outputs": [
        {
          "output_type": "stream",
          "text": [
            "Downloading https://www.cs.toronto.edu/~kriz/cifar-10-python.tar.gz to ./data/cifar-10-python.tar.gz\n"
          ],
          "name": "stdout"
        },
        {
          "output_type": "display_data",
          "data": {
            "application/vnd.jupyter.widget-view+json": {
              "model_id": "f6d0fb5ff12841bea131aa664e7ebdfe",
              "version_minor": 0,
              "version_major": 2
            },
            "text/plain": [
              "HBox(children=(FloatProgress(value=1.0, bar_style='info', max=1.0), HTML(value='')))"
            ]
          },
          "metadata": {
            "tags": []
          }
        },
        {
          "output_type": "stream",
          "text": [
            "Extracting ./data/cifar-10-python.tar.gz to ./data\n",
            "Files already downloaded and verified\n"
          ],
          "name": "stdout"
        }
      ]
    },
    {
      "cell_type": "markdown",
      "metadata": {
        "id": "_cj433rtpoCn",
        "colab_type": "text"
      },
      "source": [
        "Let us show some of the training images, for fun.\n",
        "\n"
      ]
    },
    {
      "cell_type": "code",
      "metadata": {
        "id": "daA7bADhpoCo",
        "colab_type": "code",
        "outputId": "b15de701-07da-4f7b-fc1c-1a3dee681073",
        "colab": {
          "base_uri": "https://localhost:8080/",
          "height": 155
        }
      },
      "source": [
        "import matplotlib.pyplot as plt\n",
        "import numpy as np\n",
        "\n",
        "# functions to show an image\n",
        "\n",
        "\n",
        "def imshow(img):\n",
        "    img = img / 2 + 0.5     # unnormalize\n",
        "    npimg = img.numpy()\n",
        "    plt.imshow(np.transpose(npimg, (1, 2, 0)))\n",
        "\n",
        "\n",
        "# get some random training images\n",
        "dataiter = iter(trainloader)\n",
        "images, labels = dataiter.next()\n",
        "\n",
        "# show images\n",
        "imshow(torchvision.utils.make_grid(images))\n",
        "# print labels\n",
        "print(' '.join('%5s' % classes[labels[j]] for j in range(4)))"
      ],
      "execution_count": 6,
      "outputs": [
        {
          "output_type": "stream",
          "text": [
            " ship  bird   cat   dog\n"
          ],
          "name": "stdout"
        },
        {
          "output_type": "display_data",
          "data": {
            "image/png": "[encoded data removed]",
            "text/plain": [
              "<Figure size 432x288 with 1 Axes>"
            ]
          },
          "metadata": {
            "tags": [],
            "needs_background": "light"
          }
        }
      ]
    },
    {
      "cell_type": "markdown",
      "metadata": {
        "id": "28OpHA_LpoCq",
        "colab_type": "text"
      },
      "source": [
        "2. Define a Convolution Neural Network\n",
        "^^^^^^^^^^^^^^^^^^^^^^^^^^^^^^^^^^^^^^\n",
        "Copy the neural network from the Neural Networks section before and modify it to\n",
        "take 3-channel images (instead of 1-channel images as it was defined).\n",
        "\n"
      ]
    },
    {
      "cell_type": "markdown",
      "metadata": {
        "id": "Wdw2NNCUpoCu",
        "colab_type": "text"
      },
      "source": [
        "3. Define a Loss function and optimizer\n",
        "^^^^^^^^^^^^^^^^^^^^^^^^^^^^^^^^^^^^^^^\n",
        "Let's use a Classification Cross-Entropy loss and SGD with momentum.\n",
        "\n"
      ]
    },
    {
      "cell_type": "code",
      "metadata": {
        "id": "M4xBbDROpoCv",
        "colab_type": "code",
        "colab": {}
      },
      "source": [
        "import torch.optim as optim\n",
        "\n",
        "criterion = nn.CrossEntropyLoss()\n",
        "optimizer = optim.SGD(model.parameters(), lr=0.005, momentum=0.9)\n",
        "scheduler = StepLR(optimizer,step_size=3,gamma=0.2)"
      ],
      "execution_count": 0,
      "outputs": []
    },
    {
      "cell_type": "markdown",
      "metadata": {
        "id": "O-odOrhdpoC2",
        "colab_type": "text"
      },
      "source": [
        "4. Train the network\n",
        "^^^^^^^^^^^^^^^^^^^^\n",
        "\n",
        "This is when things start to get interesting.\n",
        "We simply have to loop over our data iterator, and feed the inputs to the\n",
        "network and optimize.\n",
        "\n"
      ]
    },
    {
      "cell_type": "code",
      "metadata": {
        "id": "kkuRfo1IpoC3",
        "colab_type": "code",
        "outputId": "28b8c095-25a3-4c8a-96f8-75813e64a1d5",
        "colab": {
          "base_uri": "https://localhost:8080/",
          "height": 1000
        }
      },
      "source": [
        "for epoch in range(20):  # loop over the dataset multiple times\n",
        "\n",
        "    running_loss = 0.0\n",
        "    for i, data in enumerate(trainloader, 0):\n",
        "        # get the inputs\n",
        "        inputs, labels = data\n",
        "\n",
        "        # zero the parameter gradients\n",
        "        optimizer.zero_grad()\n",
        "\n",
        "        # forward + backward + optimize\n",
        "        model.to(device)\n",
        "        outputs = model(inputs.to(device))\n",
        "        loss = criterion(outputs, labels.to(device))\n",
        "        loss.backward()\n",
        "        optimizer.step()\n",
        "\n",
        "        # print statistics\n",
        "        running_loss += loss.item()\n",
        "        if i % 2000 == 1999:    # print every 2000 mini-batches\n",
        "            print('[%d, %5d] loss: %.3f' %\n",
        "                  (epoch + 1, i + 1, running_loss / 2000))\n",
        "            running_loss = 0.0\n",
        "\n",
        "print('Finished Training')"
      ],
      "execution_count": 8,
      "outputs": [
        {
          "output_type": "stream",
          "text": [
            "/usr/local/lib/python3.6/dist-packages/ipykernel_launcher.py:61: UserWarning: Implicit dimension choice for log_softmax has been deprecated. Change the call to include dim=X as an argument.\n"
          ],
          "name": "stderr"
        },
        {
          "output_type": "stream",
          "text": [
            "[1,  2000] loss: 2.212\n",
            "[1,  4000] loss: 1.973\n",
            "[1,  6000] loss: 1.859\n",
            "[1,  8000] loss: 1.757\n",
            "[1, 10000] loss: 1.689\n",
            "[1, 12000] loss: 1.662\n",
            "[2,  2000] loss: 1.581\n",
            "[2,  4000] loss: 1.503\n",
            "[2,  6000] loss: 1.483\n",
            "[2,  8000] loss: 1.447\n",
            "[2, 10000] loss: 1.428\n",
            "[2, 12000] loss: 1.382\n",
            "[3,  2000] loss: 1.327\n",
            "[3,  4000] loss: 1.297\n",
            "[3,  6000] loss: 1.296\n",
            "[3,  8000] loss: 1.243\n",
            "[3, 10000] loss: 1.224\n",
            "[3, 12000] loss: 1.253\n",
            "[4,  2000] loss: 1.192\n",
            "[4,  4000] loss: 1.166\n",
            "[4,  6000] loss: 1.163\n",
            "[4,  8000] loss: 1.163\n",
            "[4, 10000] loss: 1.156\n",
            "[4, 12000] loss: 1.157\n",
            "[5,  2000] loss: 1.083\n",
            "[5,  4000] loss: 1.082\n",
            "[5,  6000] loss: 1.070\n",
            "[5,  8000] loss: 1.054\n",
            "[5, 10000] loss: 1.077\n",
            "[5, 12000] loss: 1.070\n",
            "[6,  2000] loss: 1.017\n",
            "[6,  4000] loss: 1.022\n",
            "[6,  6000] loss: 1.038\n",
            "[6,  8000] loss: 1.006\n",
            "[6, 10000] loss: 1.025\n",
            "[6, 12000] loss: 1.004\n",
            "[7,  2000] loss: 0.983\n",
            "[7,  4000] loss: 0.981\n",
            "[7,  6000] loss: 0.967\n",
            "[7,  8000] loss: 0.967\n",
            "[7, 10000] loss: 0.935\n",
            "[7, 12000] loss: 0.968\n",
            "[8,  2000] loss: 0.935\n",
            "[8,  4000] loss: 0.915\n",
            "[8,  6000] loss: 0.947\n",
            "[8,  8000] loss: 0.963\n",
            "[8, 10000] loss: 0.939\n",
            "[8, 12000] loss: 0.921\n",
            "[9,  2000] loss: 0.883\n",
            "[9,  4000] loss: 0.872\n",
            "[9,  6000] loss: 0.885\n",
            "[9,  8000] loss: 0.890\n",
            "[9, 10000] loss: 0.952\n",
            "[9, 12000] loss: 0.929\n",
            "[10,  2000] loss: 0.896\n",
            "[10,  4000] loss: 0.881\n",
            "[10,  6000] loss: 0.890\n",
            "[10,  8000] loss: 0.876\n",
            "[10, 10000] loss: 0.885\n",
            "[10, 12000] loss: 0.862\n",
            "[11,  2000] loss: 0.841\n",
            "[11,  4000] loss: 0.875\n",
            "[11,  6000] loss: 0.880\n",
            "[11,  8000] loss: 0.866\n",
            "[11, 10000] loss: 0.857\n",
            "[11, 12000] loss: 0.861\n",
            "[12,  2000] loss: 0.813\n",
            "[12,  4000] loss: 0.843\n",
            "[12,  6000] loss: 0.870\n",
            "[12,  8000] loss: 0.847\n",
            "[12, 10000] loss: 0.846\n",
            "[12, 12000] loss: 0.828\n",
            "[13,  2000] loss: 0.826\n",
            "[13,  4000] loss: 0.825\n",
            "[13,  6000] loss: 0.797\n",
            "[13,  8000] loss: 0.844\n",
            "[13, 10000] loss: 0.804\n",
            "[13, 12000] loss: 0.815\n",
            "[14,  2000] loss: 0.787\n",
            "[14,  4000] loss: 0.787\n",
            "[14,  6000] loss: 0.788\n",
            "[14,  8000] loss: 0.813\n",
            "[14, 10000] loss: 0.804\n",
            "[14, 12000] loss: 0.808\n",
            "[15,  2000] loss: 0.748\n",
            "[15,  4000] loss: 0.755\n",
            "[15,  6000] loss: 0.761\n",
            "[15,  8000] loss: 0.755\n",
            "[15, 10000] loss: 0.763\n",
            "[15, 12000] loss: 0.797\n",
            "[16,  2000] loss: 0.751\n",
            "[16,  4000] loss: 0.727\n",
            "[16,  6000] loss: 0.769\n",
            "[16,  8000] loss: 0.761\n",
            "[16, 10000] loss: 0.762\n",
            "[16, 12000] loss: 0.746\n",
            "[17,  2000] loss: 0.699\n",
            "[17,  4000] loss: 0.726\n",
            "[17,  6000] loss: 0.783\n",
            "[17,  8000] loss: 0.819\n",
            "[17, 10000] loss: 0.770\n",
            "[17, 12000] loss: 0.733\n",
            "[18,  2000] loss: 0.690\n",
            "[18,  4000] loss: 0.716\n",
            "[18,  6000] loss: 0.702\n",
            "[18,  8000] loss: 0.749\n",
            "[18, 10000] loss: 0.747\n",
            "[18, 12000] loss: 0.752\n",
            "[19,  2000] loss: 0.676\n",
            "[19,  4000] loss: 0.682\n",
            "[19,  6000] loss: 0.705\n",
            "[19,  8000] loss: 0.721\n",
            "[19, 10000] loss: 0.749\n",
            "[19, 12000] loss: 0.700\n",
            "[20,  2000] loss: 0.687\n",
            "[20,  4000] loss: 0.667\n",
            "[20,  6000] loss: 0.700\n",
            "[20,  8000] loss: 0.697\n",
            "[20, 10000] loss: 0.714\n",
            "[20, 12000] loss: 0.718\n",
            "Finished Training\n"
          ],
          "name": "stdout"
        }
      ]
    },
    {
      "cell_type": "markdown",
      "metadata": {
        "id": "YLrvL_fHpoC5",
        "colab_type": "text"
      },
      "source": [
        "5. Test the network on the test data\n",
        "^^^^^^^^^^^^^^^^^^^^^^^^^^^^^^^^^^^^\n",
        "\n",
        "We have trained the network for 2 passes over the training dataset.\n",
        "But we need to check if the network has learnt anything at all.\n",
        "\n",
        "We will check this by predicting the class label that the neural network\n",
        "outputs, and checking it against the ground-truth. If the prediction is\n",
        "correct, we add the sample to the list of correct predictions.\n",
        "\n",
        "Okay, first step. Let us display an image from the test set to get familiar.\n",
        "\n"
      ]
    },
    {
      "cell_type": "code",
      "metadata": {
        "id": "nizbsvw9poC6",
        "colab_type": "code",
        "colab": {
          "base_uri": "https://localhost:8080/",
          "height": 155
        },
        "outputId": "4aead316-9e02-48a7-d1a6-38bc505eafae"
      },
      "source": [
        "dataiter = iter(testloader)\n",
        "images, labels = dataiter.next()\n",
        "\n",
        "# print images\n",
        "imshow(torchvision.utils.make_grid(images))\n",
        "print('GroundTruth: ', ' '.join('%5s' % classes[labels[j]] for j in range(4)))"
      ],
      "execution_count": 9,
      "outputs": [
        {
          "output_type": "stream",
          "text": [
            "GroundTruth:    cat  ship  ship plane\n"
          ],
          "name": "stdout"
        },
        {
          "output_type": "display_data",
          "data": {
            "image/png": "[encoded data removed]",
            "text/plain": [
              "<Figure size 432x288 with 1 Axes>"
            ]
          },
          "metadata": {
            "tags": [],
            "needs_background": "light"
          }
        }
      ]
    },
    {
      "cell_type": "markdown",
      "metadata": {
        "id": "DAx4QPHVpoC8",
        "colab_type": "text"
      },
      "source": [
        "Okay, now let us see what the neural network thinks these examples above are:\n",
        "\n"
      ]
    },
    {
      "cell_type": "code",
      "metadata": {
        "id": "HVLjlssWpoC9",
        "colab_type": "code",
        "colab": {
          "base_uri": "https://localhost:8080/",
          "height": 54
        },
        "outputId": "2efe01e7-035a-409f-ca13-3525a72cb7c7"
      },
      "source": [
        "outputs = model(images.to(device))"
      ],
      "execution_count": 10,
      "outputs": [
        {
          "output_type": "stream",
          "text": [
            "/usr/local/lib/python3.6/dist-packages/ipykernel_launcher.py:61: UserWarning: Implicit dimension choice for log_softmax has been deprecated. Change the call to include dim=X as an argument.\n"
          ],
          "name": "stderr"
        }
      ]
    },
    {
      "cell_type": "markdown",
      "metadata": {
        "id": "u8OTHZEApoC_",
        "colab_type": "text"
      },
      "source": [
        "The outputs are energies for the 10 classes.\n",
        "Higher the energy for a class, the more the network\n",
        "thinks that the image is of the particular class.\n",
        "So, let's get the index of the highest energy:\n",
        "\n"
      ]
    },
    {
      "cell_type": "code",
      "metadata": {
        "id": "ABRIDW3lpoDA",
        "colab_type": "code",
        "colab": {
          "base_uri": "https://localhost:8080/",
          "height": 34
        },
        "outputId": "b0cb1549-824e-4258-f809-9e42c13b507f"
      },
      "source": [
        "_, predicted = torch.max(outputs, 1)\n",
        "\n",
        "print('Predicted: ', ' '.join('%5s' % classes[predicted[j]]\n",
        "                              for j in range(4)))"
      ],
      "execution_count": 11,
      "outputs": [
        {
          "output_type": "stream",
          "text": [
            "Predicted:    cat  ship truck plane\n"
          ],
          "name": "stdout"
        }
      ]
    },
    {
      "cell_type": "markdown",
      "metadata": {
        "id": "2TV0TXL1poDC",
        "colab_type": "text"
      },
      "source": [
        "The results seem pretty good.\n",
        "\n",
        "Let us look at how the network performs on the whole dataset.\n",
        "\n"
      ]
    },
    {
      "cell_type": "code",
      "metadata": {
        "id": "SZ4-5CESpoDD",
        "colab_type": "code",
        "colab": {
          "base_uri": "https://localhost:8080/",
          "height": 70
        },
        "outputId": "93fe6bfc-74de-4ed5-c70c-8b3cd307f6f7"
      },
      "source": [
        "correct = 0\n",
        "total = 0\n",
        "with torch.no_grad():\n",
        "    for data in testloader:\n",
        "        images, labels = data\n",
        "        outputs = model(images.to(device))\n",
        "        _, predicted = torch.max(outputs.data, 1)\n",
        "        total += labels.size(0)\n",
        "        correct += (predicted == labels.to(device)).sum().item()\n",
        "\n",
        "print('Accuracy of the network on the 10000 test images: %d %%' % (\n",
        "    100 * correct / total))"
      ],
      "execution_count": 12,
      "outputs": [
        {
          "output_type": "stream",
          "text": [
            "/usr/local/lib/python3.6/dist-packages/ipykernel_launcher.py:61: UserWarning: Implicit dimension choice for log_softmax has been deprecated. Change the call to include dim=X as an argument.\n"
          ],
          "name": "stderr"
        },
        {
          "output_type": "stream",
          "text": [
            "Accuracy of the network on the 10000 test images: 72 %\n"
          ],
          "name": "stdout"
        }
      ]
    },
    {
      "cell_type": "markdown",
      "metadata": {
        "id": "eDdwPBl8poDF",
        "colab_type": "text"
      },
      "source": [
        "That looks waaay better than chance, which is 10% accuracy (randomly picking\n",
        "a class out of 10 classes).\n",
        "Seems like the network learnt something.\n",
        "\n",
        "Hmmm, what are the classes that performed well, and the classes that did\n",
        "not perform well:\n",
        "\n"
      ]
    },
    {
      "cell_type": "code",
      "metadata": {
        "id": "pDNFuDEDpoDG",
        "colab_type": "code",
        "colab": {
          "base_uri": "https://localhost:8080/",
          "height": 222
        },
        "outputId": "13fac47a-6cfe-45e4-e1a8-45b66be225dc"
      },
      "source": [
        "class_correct = list(0. for i in range(10))\n",
        "class_total = list(0. for i in range(10))\n",
        "with torch.no_grad():\n",
        "    for data in testloader:\n",
        "        images, labels = data\n",
        "        outputs = model(images.to(device))\n",
        "        _, predicted = torch.max(outputs, 1)\n",
        "        c = (predicted == labels.to(device)).squeeze()\n",
        "        for i in range(4):\n",
        "            label = labels[i]\n",
        "            class_correct[label] += c[i].item()\n",
        "            class_total[label] += 1\n",
        "\n",
        "\n",
        "for i in range(10):\n",
        "    print('Accuracy of %5s : %2d %%' % (\n",
        "        classes[i], 100 * class_correct[i] / class_total[i]))"
      ],
      "execution_count": 13,
      "outputs": [
        {
          "output_type": "stream",
          "text": [
            "/usr/local/lib/python3.6/dist-packages/ipykernel_launcher.py:61: UserWarning: Implicit dimension choice for log_softmax has been deprecated. Change the call to include dim=X as an argument.\n"
          ],
          "name": "stderr"
        },
        {
          "output_type": "stream",
          "text": [
            "Accuracy of plane : 69 %\n",
            "Accuracy of   car : 88 %\n",
            "Accuracy of  bird : 68 %\n",
            "Accuracy of   cat : 57 %\n",
            "Accuracy of  deer : 61 %\n",
            "Accuracy of   dog : 56 %\n",
            "Accuracy of  frog : 79 %\n",
            "Accuracy of horse : 82 %\n",
            "Accuracy of  ship : 84 %\n",
            "Accuracy of truck : 85 %\n"
          ],
          "name": "stdout"
        }
      ]
    },
    {
      "cell_type": "code",
      "metadata": {
        "id": "t1Qq3YH2FVf0",
        "colab_type": "code",
        "colab": {}
      },
      "source": [
        ""
      ],
      "execution_count": 0,
      "outputs": []
    }
  ]
}